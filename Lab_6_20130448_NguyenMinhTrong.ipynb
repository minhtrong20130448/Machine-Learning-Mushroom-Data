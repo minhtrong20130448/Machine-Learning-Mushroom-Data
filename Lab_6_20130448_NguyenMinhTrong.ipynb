{
  "nbformat": 4,
  "nbformat_minor": 0,
  "metadata": {
    "colab": {
      "provenance": [],
      "include_colab_link": true
    },
    "kernelspec": {
      "name": "python3",
      "display_name": "Python 3"
    },
    "language_info": {
      "name": "python"
    }
  },
  "cells": [
    {
      "cell_type": "markdown",
      "metadata": {
        "id": "view-in-github",
        "colab_type": "text"
      },
      "source": [
        "<a href=\"https://colab.research.google.com/github/minhtrong20130448/ML/blob/main/Lab_6_20130448_NguyenMinhTrong.ipynb\" target=\"_parent\"><img src=\"https://colab.research.google.com/assets/colab-badge.svg\" alt=\"Open In Colab\"/></a>"
      ]
    },
    {
      "cell_type": "markdown",
      "source": [
        "# This lab is to deal with classification task using **Random Forests** and **Naïve Bayes** algorithms with/without **Feature Selection**. \n",
        "\n",
        "*   **Deadline: 23:59, 25/03/2023**\n",
        "\n"
      ],
      "metadata": {
        "id": "LMzehe0sy5wr"
      }
    },
    {
      "cell_type": "markdown",
      "source": [
        "# Import libraries"
      ],
      "metadata": {
        "id": "H4nJmxp9zGX4"
      }
    },
    {
      "cell_type": "code",
      "execution_count": null,
      "metadata": {
        "id": "DoVWQ8AEyc-C"
      },
      "outputs": [],
      "source": [
        "from sklearn import datasets\n",
        "from sklearn.model_selection import train_test_split\n",
        "from sklearn.ensemble import RandomForestClassifier\n",
        "from sklearn import metrics\n",
        "\n",
        "from sklearn.naive_bayes import GaussianNB\n",
        "\n",
        "from sklearn.svm import SVC\n",
        "\n",
        "from prettytable import PrettyTable\n",
        "\n",
        "import pandas as pd\n",
        "import numpy as np\n",
        "import matplotlib.pyplot as plt\n",
        "\n",
        "from sklearn.neighbors import KNeighborsClassifier\n",
        "from sklearn.tree import DecisionTreeClassifier"
      ]
    },
    {
      "cell_type": "markdown",
      "source": [
        "#Task 1. \n",
        "Task 1. Compare the performance of selected classification algorithms including **Random forest**, **NaiveBayes**, and **SVM** with **mnist** dataset based on **accuracy, precision, recall, f1** measures according to **without using selection feature** and **using selection feature**.\n",
        "\n"
      ],
      "metadata": {
        "id": "kNv07ARGzOUm"
      }
    },
    {
      "cell_type": "code",
      "source": [
        "#Random forest\n",
        "dataset = datasets.load_digits()\n",
        "X = dataset.data\n",
        "Y = dataset.target\n",
        "X_train, X_test, Y_train, Y_test = train_test_split(X, Y, test_size=0.3, random_state=42)\n",
        "rf = RandomForestClassifier(n_estimators=100, random_state=42)\n",
        "rf.fit(X_train, Y_train)\n",
        "y_pred = rf.predict(X_test)\n",
        "accuracy_rf = round(metrics.accuracy_score(Y_test, y_pred),4)\n",
        "precision_rf = round(metrics.precision_score(Y_test, y_pred, average='macro'),4)\n",
        "recall_rf = round(metrics.recall_score(Y_test, y_pred, average='macro'),4)\n",
        "f1_rf = round(metrics.f1_score(Y_test, y_pred, average='macro'),4)\n",
        "\n",
        "#NaiveBayes\n",
        "model = GaussianNB()\n",
        "model.fit(X_train, Y_train)\n",
        "y_pred = model.predict(X_test)\n",
        "accuracy_nb =  round(metrics.accuracy_score(Y_test, y_pred),4)\n",
        "precision_nb =  round(metrics.precision_score(Y_test, y_pred, average='macro'),4)\n",
        "recall_nb =  round(metrics.recall_score(Y_test, y_pred, average='macro'),4)\n",
        "f1_nb =  round(metrics.f1_score(Y_test, y_pred, average='macro'),4)\n",
        "\n",
        "# SVM\n",
        "svc = SVC(kernel='linear')\n",
        "svc.fit(X_train, Y_train)\n",
        "y_pred = svc.predict(X_test)\n",
        "accuracy_svm =  round(metrics.accuracy_score(Y_test, y_pred),4)\n",
        "precision_svm =  round(metrics.precision_score(Y_test, y_pred, average='macro'),4)\n",
        "recall_svm =  round(metrics.recall_score(Y_test, y_pred, average='macro'),4)\n",
        "f1_svm =  round(metrics.f1_score(Y_test, y_pred, average='macro'),4)\n",
        "\n",
        "#Vẽ bảng so sánh\n",
        "table = PrettyTable(['Thuật toán','Acc','Pre','Recall','F1'])\n",
        "table.add_row(['Random Forest', accuracy_rf, precision_rf, recall_rf, f1_rf])\n",
        "table.add_row(['NaiveBayes', accuracy_nb, precision_nb, recall_nb, f1_nb])\n",
        "table.add_row(['SVM', accuracy_svm, accuracy_svm, accuracy_svm, accuracy_svm])\n",
        "\n",
        "print(table)\n",
        "\n",
        "#Vẽ biểu đồ so sánh\n",
        "\n",
        "algorithm = ['Random Forest','NaiveBayes','SVM']\n",
        "values_accs = [accuracy_rf, accuracy_nb, accuracy_svm]\n",
        "values_pres = [precision_rf, precision_nb, precision_svm]\n",
        "values_recalls = [recall_rf, recall_nb, recall_svm]\n",
        "values_f1s = [f1_rf, f1_nb, f1_svm]\n",
        "\n",
        "plt.plot(algorithm, values_accs, label=\"Accuracy\")\n",
        "plt.plot(algorithm, values_pres, label=\"Precisions\")\n",
        "plt.plot(algorithm, values_recalls, label=\"Recall\")\n",
        "plt.plot(algorithm, values_f1s, label=\"F1 Scores\")\n",
        "plt.xlabel(\"algorithm\")\n",
        "plt.legend()\n"
      ],
      "metadata": {
        "id": "sOsg77IBzEyo",
        "colab": {
          "base_uri": "https://localhost:8080/",
          "height": 418
        },
        "outputId": "02727931-2659-4084-e352-499710e51920"
      },
      "execution_count": null,
      "outputs": [
        {
          "output_type": "stream",
          "name": "stdout",
          "text": [
            "+---------------+--------+--------+--------+--------+\n",
            "|   Thuật toán  |  Acc   |  Pre   | Recall |   F1   |\n",
            "+---------------+--------+--------+--------+--------+\n",
            "| Random Forest | 0.9759 | 0.9762 | 0.9764 | 0.9762 |\n",
            "|   NaiveBayes  | 0.8519 | 0.8669 | 0.8492 | 0.8476 |\n",
            "|      SVM      | 0.9796 | 0.9796 | 0.9796 | 0.9796 |\n",
            "+---------------+--------+--------+--------+--------+\n"
          ]
        },
        {
          "output_type": "execute_result",
          "data": {
            "text/plain": [
              "<matplotlib.legend.Legend at 0x7fa5099e1250>"
            ]
          },
          "metadata": {},
          "execution_count": 4
        },
        {
          "output_type": "display_data",
          "data": {
            "text/plain": [
              "<Figure size 432x288 with 1 Axes>"
            ],
            "image/png": "[encoded data removed]"
          },
          "metadata": {
            "needs_background": "light"
          }
        }
      ]
    },
    {
      "cell_type": "markdown",
      "source": [
        "#Task 2. \n",
        "For given bank dataset (bank.csv) having the following attributes :\n",
        "1.\t**age** (numeric)\n",
        "2.\t**job** : type of job (categorical: 'admin.','blue-collar','entrepreneur','housemaid','management','retired','self-employed','services','student','technician','unemployed','unknown')\n",
        "3.\t**marital** : marital status (categorical: 'divorced','married','single','unknown'; note: 'divorced' means divorced or widowed)\n",
        "4.\t**education** (categorical: 'basic.4y','basic.6y','basic.9y','high.school','illiterate','professional.course','university.degree','unknown')\n",
        "5.\t**default**: has credit in default? (categorical: 'no','yes','unknown')\n",
        "6.\t**housing**: has housing loan? (categorical: 'no','yes','unknown')\n",
        "7.\t**loan**: has personal loan? (categorical: 'no','yes','unknown')\n",
        "8.\t**contact**: contact communication type (categorical: 'cellular','telephone')\n",
        "9.\t**month**: last contact month of year (categorical: 'jan', 'feb', 'mar', ..., 'nov', 'dec')\n",
        "10.\t**day_of_week**: last contact day of the week (categorical: 'mon','tue','wed','thu','fri')\n",
        "11.\t**duration**: last contact duration, in seconds (numeric). Important note: this attribute highly affects the output target (e.g., if duration=0 then y='no'). Yet, the duration is not known before a call is performed. Also, after the end of the call y is obviously known. Thus, this input should only be included for benchmark purposes and should be discarded if the intention is to have a realistic predictive model.\n",
        "12.\t**campaign**: number of contacts performed during this campaign and for this client (numeric, includes last contact)\n",
        "13.\t**pdays**: number of days that passed by after the client was last contacted from a previous campaign (numeric; 999 means client was not previously contacted)\n",
        "14.\t**previous**: number of contacts performed before this campaign and for this client (numeric)\n",
        "15.\t**poutcome**: outcome of the previous marketing campaign (categorical: 'failure','nonexistent','success')\n",
        "Output variable (desired target):\n",
        "16.\t**y**. has the client subscribed a term deposit? (binary: 'yes','no')\n",
        "\n"
      ],
      "metadata": {
        "id": "b52OPWPD2afi"
      }
    },
    {
      "cell_type": "markdown",
      "source": [
        "#3.1. Apply StandardScaler() function to columns that contains numerical data ('age', 'balance', 'day', 'campaign', 'pdays', 'previous')"
      ],
      "metadata": {
        "id": "q89LEvT7dqaZ"
      }
    },
    {
      "cell_type": "code",
      "source": [
        "from google.colab import drive\n",
        "drive.mount('/content/gdrive')\n",
        "%cd '/content/gdrive/MyDrive/Lab6'"
      ],
      "metadata": {
        "id": "8vx3mfIidu4P",
        "colab": {
          "base_uri": "https://localhost:8080/"
        },
        "outputId": "c5d913d1-b3da-4bb9-9db7-cfb8ac7f27ac"
      },
      "execution_count": null,
      "outputs": [
        {
          "output_type": "stream",
          "name": "stdout",
          "text": [
            "Mounted at /content/gdrive\n",
            "/content/gdrive/MyDrive/Lab6\n"
          ]
        }
      ]
    },
    {
      "cell_type": "code",
      "source": [
        "from sklearn.preprocessing import StandardScaler\n",
        "dataset = pd.read_csv('bank.csv')\n",
        "X = dataset.iloc[:,:-1]\n",
        "Y = dataset.iloc[:,-1]\n",
        "\n",
        "scaler = StandardScaler()\n",
        "X[['age']] = scaler.fit_transform(X[['age']])\n",
        "X[['balance']] = scaler.fit_transform(X[['balance']])\n",
        "X[['day']] = scaler.fit_transform(X[['day']])\n",
        "X[['campaign']] = scaler.fit_transform(X[['campaign']])\n",
        "X[['pdays']] = scaler.fit_transform(X[['pdays']])\n",
        "X[['previous']] = scaler.fit_transform(X[['previous']])\n",
        "print(X)"
      ],
      "metadata": {
        "id": "egtgBmAtd0um",
        "colab": {
          "base_uri": "https://localhost:8080/"
        },
        "outputId": "d088b3ec-ba84-4ad8-885d-49bc7b586691"
      },
      "execution_count": null,
      "outputs": [
        {
          "output_type": "stream",
          "name": "stdout",
          "text": [
            "            age          job  marital  education default   balance housing  \\\n",
            "0      1.491505       admin.  married  secondary      no  0.252525     yes   \n",
            "1      1.239676       admin.  married  secondary      no -0.459974      no   \n",
            "2     -0.019470   technician  married  secondary      no -0.080160     yes   \n",
            "3      1.155733     services  married  secondary      no  0.293762     yes   \n",
            "4      1.071790       admin.  married   tertiary      no -0.416876      no   \n",
            "...         ...          ...      ...        ...     ...       ...     ...   \n",
            "11157 -0.691015  blue-collar   single    primary      no -0.473616     yes   \n",
            "11158 -0.187357     services  married  secondary      no -0.246658      no   \n",
            "11159 -0.774958   technician   single  secondary      no -0.464934      no   \n",
            "11160  0.148416   technician  married  secondary      no -0.473926      no   \n",
            "11161 -0.607072   technician  married  secondary      no -0.473926      no   \n",
            "\n",
            "      loan   contact       day month  duration  campaign     pdays  previous  \\\n",
            "0       no   unknown -1.265746   may      1042 -0.554168 -0.481184 -0.363260   \n",
            "1       no   unknown -1.265746   may      1467 -0.554168 -0.481184 -0.363260   \n",
            "2       no   unknown -1.265746   may      1389 -0.554168 -0.481184 -0.363260   \n",
            "3       no   unknown -1.265746   may       579 -0.554168 -0.481184 -0.363260   \n",
            "4       no   unknown -1.265746   may       673 -0.186785 -0.481184 -0.363260   \n",
            "...    ...       ...       ...   ...       ...       ...       ...       ...   \n",
            "11157   no  cellular  0.515650   apr       257 -0.554168 -0.481184 -0.363260   \n",
            "11158   no   unknown  0.040612   jun        83  0.547981 -0.481184 -0.363260   \n",
            "11159   no  cellular  0.396891   aug       156 -0.186785 -0.481184 -0.363260   \n",
            "11160  yes  cellular -0.909466   may         9 -0.186785  1.109571  1.818332   \n",
            "11161   no  cellular -0.790707   jul       628 -0.554168 -0.481184 -0.363260   \n",
            "\n",
            "      poutcome  \n",
            "0      unknown  \n",
            "1      unknown  \n",
            "2      unknown  \n",
            "3      unknown  \n",
            "4      unknown  \n",
            "...        ...  \n",
            "11157  unknown  \n",
            "11158  unknown  \n",
            "11159  unknown  \n",
            "11160  failure  \n",
            "11161  unknown  \n",
            "\n",
            "[11162 rows x 16 columns]\n"
          ]
        }
      ]
    },
    {
      "cell_type": "markdown",
      "source": [
        "#3.2. Apply Encode Categorical Value (OneHotEncoder) to transfrom categorical data to numerical data ('job', 'marital', 'education', 'default', 'housing', 'loan', 'contact', 'month', 'poutcome')"
      ],
      "metadata": {
        "id": "r7acR0TxdvY8"
      }
    },
    {
      "cell_type": "code",
      "source": [
        "from sklearn.preprocessing import OneHotEncoder\n",
        "from sklearn.linear_model import LogisticRegression\n",
        "from sklearn.metrics import accuracy_score\n",
        "\n",
        "categorical_columns = ['job', 'marital', 'education', 'default', 'housing', 'loan', 'contact', 'month', 'poutcome']\n",
        "encoder = OneHotEncoder()\n",
        "encoded_data = encoder.fit_transform(dataset[categorical_columns])\n",
        "\n",
        "X = pd.concat([X[['age', 'duration', 'campaign', 'pdays', 'previous']], pd.DataFrame(encoded_data.toarray())], axis=1)\n",
        "X.columns = X.columns.astype(str)\n",
        "\n",
        "print(X)"
      ],
      "metadata": {
        "colab": {
          "base_uri": "https://localhost:8080/"
        },
        "id": "jx4MINsrdKMl",
        "outputId": "ab7856aa-2aa3-409c-c44e-d74d81281d85"
      },
      "execution_count": null,
      "outputs": [
        {
          "output_type": "stream",
          "name": "stdout",
          "text": [
            "            age  duration  campaign     pdays  previous    0    1    2    3  \\\n",
            "0      1.491505      1042 -0.554168 -0.481184 -0.363260  1.0  0.0  0.0  0.0   \n",
            "1      1.239676      1467 -0.554168 -0.481184 -0.363260  1.0  0.0  0.0  0.0   \n",
            "2     -0.019470      1389 -0.554168 -0.481184 -0.363260  0.0  0.0  0.0  0.0   \n",
            "3      1.155733       579 -0.554168 -0.481184 -0.363260  0.0  0.0  0.0  0.0   \n",
            "4      1.071790       673 -0.186785 -0.481184 -0.363260  1.0  0.0  0.0  0.0   \n",
            "...         ...       ...       ...       ...       ...  ...  ...  ...  ...   \n",
            "11157 -0.691015       257 -0.554168 -0.481184 -0.363260  0.0  1.0  0.0  0.0   \n",
            "11158 -0.187357        83  0.547981 -0.481184 -0.363260  0.0  0.0  0.0  0.0   \n",
            "11159 -0.774958       156 -0.186785 -0.481184 -0.363260  0.0  0.0  0.0  0.0   \n",
            "11160  0.148416         9 -0.186785  1.109571  1.818332  0.0  0.0  0.0  0.0   \n",
            "11161 -0.607072       628 -0.554168 -0.481184 -0.363260  0.0  0.0  0.0  0.0   \n",
            "\n",
            "         4  ...   34   35   36   37   38   39   40   41   42   43  \n",
            "0      0.0  ...  0.0  0.0  1.0  0.0  0.0  0.0  0.0  0.0  0.0  1.0  \n",
            "1      0.0  ...  0.0  0.0  1.0  0.0  0.0  0.0  0.0  0.0  0.0  1.0  \n",
            "2      0.0  ...  0.0  0.0  1.0  0.0  0.0  0.0  0.0  0.0  0.0  1.0  \n",
            "3      0.0  ...  0.0  0.0  1.0  0.0  0.0  0.0  0.0  0.0  0.0  1.0  \n",
            "4      0.0  ...  0.0  0.0  1.0  0.0  0.0  0.0  0.0  0.0  0.0  1.0  \n",
            "...    ...  ...  ...  ...  ...  ...  ...  ...  ...  ...  ...  ...  \n",
            "11157  0.0  ...  0.0  0.0  0.0  0.0  0.0  0.0  0.0  0.0  0.0  1.0  \n",
            "11158  0.0  ...  1.0  0.0  0.0  0.0  0.0  0.0  0.0  0.0  0.0  1.0  \n",
            "11159  0.0  ...  0.0  0.0  0.0  0.0  0.0  0.0  0.0  0.0  0.0  1.0  \n",
            "11160  0.0  ...  0.0  0.0  1.0  0.0  0.0  0.0  1.0  0.0  0.0  0.0  \n",
            "11161  0.0  ...  0.0  0.0  0.0  0.0  0.0  0.0  0.0  0.0  0.0  1.0  \n",
            "\n",
            "[11162 rows x 49 columns]\n"
          ]
        }
      ]
    },
    {
      "cell_type": "markdown",
      "source": [
        "#3.3. Apply **Decision tree, Random forest, kNN, NaïveBayes** to preproceed dataset in the previous steps. Then compare the obtained results using **accuracy, precision, recall, f1** measures."
      ],
      "metadata": {
        "id": "K2Si6d69d1nh"
      }
    },
    {
      "cell_type": "code",
      "source": [
        "X_train, X_test, Y_train, Y_test = train_test_split(X, Y, test_size=0.2, random_state=42)\n",
        "\n",
        "#Decision tree\n",
        "dt = DecisionTreeClassifier(random_state=42)\n",
        "dt.fit(X_train, Y_train)\n",
        "y_pred_dt = dt.predict(X_test)\n",
        "\n",
        "accuracy_dt = round(metrics.accuracy_score(Y_test, y_pred_dt),4)\n",
        "precision_dt =  round(metrics.precision_score(Y_test, y_pred_dt,average='macro'),4)\n",
        "recall_dt =  round(metrics.recall_score(Y_test, y_pred_dt,average='macro'),4)\n",
        "f1_dt =  round(metrics.f1_score(Y_test, y_pred_dt,average='macro'),4)\n",
        "\n",
        "\n",
        "#Random forest\n",
        "rf = RandomForestClassifier(n_estimators=100, random_state=42)\n",
        "rf.fit(X_train, Y_train)\n",
        "y_pred_rf = rf.predict(X_test)\n",
        "accuracy_rf = round(metrics.accuracy_score(Y_test, y_pred_rf),4)\n",
        "precision_rf = round(metrics.precision_score(Y_test, y_pred_rf, average='macro'),4)\n",
        "recall_rf = round(metrics.recall_score(Y_test, y_pred_rf, average='macro'),4)\n",
        "f1_rf = round(metrics.f1_score(Y_test, y_pred_rf, average='macro'),4)\n",
        "\n",
        "#kNN\n",
        "knn = KNeighborsClassifier(n_neighbors=5)\n",
        "knn.fit(X_train, Y_train)\n",
        "y_pred_knn = knn.predict(X_test)\n",
        "\n",
        "accuracy_knn =  round(metrics.accuracy_score(Y_test, y_pred_knn),4)\n",
        "precision_knn =  round(metrics.precision_score(Y_test, y_pred_knn, average='macro'),4)\n",
        "recall_knn =  round(metrics.recall_score(Y_test, y_pred_knn, average='macro'),4)\n",
        "f1_knn =  round(metrics.f1_score(Y_test, y_pred_knn, average='macro'),4)\n",
        "\n",
        "\n",
        "#NaiveBayes\n",
        "model = GaussianNB()\n",
        "model.fit(X_train, Y_train)\n",
        "y_pred_nb = model.predict(X_test)\n",
        "accuracy_nb =  round(metrics.accuracy_score(Y_test, y_pred_nb),4)\n",
        "precision_nb =  round(metrics.precision_score(Y_test, y_pred_nb, average='macro'),4)\n",
        "recall_nb =  round(metrics.recall_score(Y_test, y_pred_nb, average='macro'),4)\n",
        "f1_nb =  round(metrics.f1_score(Y_test, y_pred_nb, average='macro'),4)\n",
        "\n",
        "\n",
        "#Vẽ bảng so sánh\n",
        "table = PrettyTable(['Thuật toán','Acc','Pre','Recall','F1'])\n",
        "\n",
        "table.add_row(['Decision tree', accuracy_dt, precision_dt, recall_dt, f1_dt])\n",
        "table.add_row(['Random forest', accuracy_knn, precision_knn, recall_knn, f1_knn])\n",
        "table.add_row(['kNN', accuracy_knn, precision_knn, recall_knn, f1_knn])\n",
        "table.add_row(['NaiveBayes', accuracy_nb, precision_nb, recall_nb, f1_nb])\n",
        "\n",
        "print(table)\n"
      ],
      "metadata": {
        "id": "Ouil-cf_d8jW",
        "colab": {
          "base_uri": "https://localhost:8080/"
        },
        "outputId": "3f259453-a7a2-4266-9012-ec7ccf5c6c06"
      },
      "execution_count": null,
      "outputs": [
        {
          "output_type": "stream",
          "name": "stdout",
          "text": [
            "+---------------+--------+--------+--------+--------+\n",
            "|   Thuật toán  |  Acc   |  Pre   | Recall |   F1   |\n",
            "+---------------+--------+--------+--------+--------+\n",
            "| Decision tree | 0.7747 | 0.7743 | 0.7741 | 0.7742 |\n",
            "| Random forest | 0.7671 | 0.7667 | 0.7669 | 0.7668 |\n",
            "|      kNN      | 0.7671 | 0.7667 | 0.7669 | 0.7668 |\n",
            "|   NaiveBayes  | 0.7273 | 0.7455 | 0.7206 | 0.7179 |\n",
            "+---------------+--------+--------+--------+--------+\n"
          ]
        }
      ]
    },
    {
      "cell_type": "markdown",
      "source": [
        "#3.4. Using selection feature to above dataset, then compare the classification results with those in Task 2.3. "
      ],
      "metadata": {
        "id": "SweVRB4meApP"
      }
    },
    {
      "cell_type": "code",
      "source": [
        "from sklearn.feature_selection import SelectKBest\n",
        "from sklearn.feature_selection import f_classif,chi2\n",
        "from sklearn.ensemble import ExtraTreesClassifier\n",
        "\n",
        "#ExtraTreesClassifier\n",
        "model = ExtraTreesClassifier(n_estimators = 100)\n",
        "model.fit(X, Y)\n",
        "importances = pd.Series(model.feature_importances_, index=X.columns)\n",
        "selected_features = importances.nlargest(30).index.tolist()\n",
        "\n",
        "feature_views = [] \n",
        "scores_view = []\n",
        "for i in range(len(importances)):\n",
        "    feature_views.append(X.columns[i])\n",
        "    scores_view.append(importances[i])\n",
        "\n",
        "df = pd.DataFrame({'feature': feature_views, 'score': scores_view})\n",
        "df = df.sort_values('score', ascending=False)\n",
        "#df = df.reset_index()\n",
        "print('Điểm của các thuộc tính:')\n",
        "print(df.head(30))\n",
        "\n",
        "\n",
        "# Chọn các thuộc tính quan trọng nhất làm đầu vào\n",
        "X_best = X[selected_features]\n",
        "X_train, X_test, Y_train, Y_test = train_test_split(X_best, Y, test_size=0.2, random_state=42)\n",
        "\n",
        "#Decision tree\n",
        "dt = DecisionTreeClassifier(random_state=42)\n",
        "dt.fit(X_train, Y_train)\n",
        "y_pred_dt = dt.predict(X_test)\n",
        "\n",
        "accuracy_dt = round(metrics.accuracy_score(Y_test, y_pred_dt),4)\n",
        "precision_dt =  round(metrics.precision_score(Y_test, y_pred_dt,average='macro'),4)\n",
        "recall_dt =  round(metrics.recall_score(Y_test, y_pred_dt,average='macro'),4)\n",
        "f1_dt =  round(metrics.f1_score(Y_test, y_pred_dt,average='macro'),4)\n",
        "\n",
        "#Random forest\n",
        "rf = RandomForestClassifier(n_estimators=100, random_state=42)\n",
        "rf.fit(X_train, Y_train)\n",
        "y_pred_rf = rf.predict(X_test)\n",
        "accuracy_rf = round(metrics.accuracy_score(Y_test, y_pred_rf),4)\n",
        "precision_rf = round(metrics.precision_score(Y_test, y_pred_rf, average='macro'),4)\n",
        "recall_rf = round(metrics.recall_score(Y_test, y_pred_rf, average='macro'),4)\n",
        "f1_rf = round(metrics.f1_score(Y_test, y_pred_rf, average='macro'),4)\n",
        "\n",
        "#kNN\n",
        "knn = KNeighborsClassifier(n_neighbors=5)\n",
        "knn.fit(X_train, Y_train)\n",
        "y_pred_knn = knn.predict(X_test)\n",
        "\n",
        "accuracy_knn =  round(metrics.accuracy_score(Y_test, y_pred_knn),4)\n",
        "precision_knn =  round(metrics.precision_score(Y_test, y_pred_knn, average='macro'),4)\n",
        "recall_knn =  round(metrics.recall_score(Y_test, y_pred_knn, average='macro'),4)\n",
        "f1_knn =  round(metrics.f1_score(Y_test, y_pred_knn, average='macro'),4)\n",
        "\n",
        "\n",
        "#NaiveBayes\n",
        "model = GaussianNB()\n",
        "model.fit(X_train, Y_train)\n",
        "y_pred_nb = model.predict(X_test)\n",
        "accuracy_nb =  round(metrics.accuracy_score(Y_test, y_pred_nb),4)\n",
        "precision_nb =  round(metrics.precision_score(Y_test, y_pred_nb, average='macro'),4)\n",
        "recall_nb =  round(metrics.recall_score(Y_test, y_pred_nb, average='macro'),4)\n",
        "f1_nb =  round(metrics.f1_score(Y_test, y_pred_nb, average='macro'),4)\n",
        "\n",
        "\n",
        "#Vẽ bảng so sánh\n",
        "table = PrettyTable(['Thuật toán | feature selection','Acc','Pre','Recall','F1'])\n",
        "\n",
        "table.add_row(['Decision tree', accuracy_dt, precision_dt, recall_dt, f1_dt])\n",
        "table.add_row(['Random forest', accuracy_knn, precision_knn, recall_knn, f1_knn])\n",
        "table.add_row(['kNN', accuracy_knn, precision_knn, recall_knn, f1_knn])\n",
        "table.add_row(['NaiveBayes', accuracy_nb, precision_nb, recall_nb, f1_nb])\n",
        "\n",
        "print(table)\n",
        "\n",
        "#So sánh khi không sử dụng feature selection và khi sử dụng feature selection\n",
        "#kết quả khi sử dụng feature selection của accuracy thấp hơn một chút so với không sử dụng feature selection\n",
        "#nhưng nó giúp giảm độ phức tập của mô hình, tránh hiện tượng overfitting và tăng tính ổn định kết quả "
      ],
      "metadata": {
        "id": "seFBhqCSeC7C",
        "colab": {
          "base_uri": "https://localhost:8080/"
        },
        "outputId": "1c1520e6-095d-4a78-a698-65e18cd12352"
      },
      "execution_count": null,
      "outputs": [
        {
          "output_type": "stream",
          "name": "stdout",
          "text": [
            "Điểm của các thuộc tính:\n",
            "     feature     score\n",
            "1   duration  0.315909\n",
            "0        age  0.106289\n",
            "2   campaign  0.066463\n",
            "47        42  0.046360\n",
            "32        27  0.027901\n",
            "48        43  0.022193\n",
            "3      pdays  0.021308\n",
            "30        25  0.017784\n",
            "27        22  0.015769\n",
            "4   previous  0.015446\n",
            "26        21  0.015395\n",
            "34        29  0.014554\n",
            "41        36  0.014042\n",
            "33        28  0.013841\n",
            "39        34  0.013515\n",
            "40        35  0.012756\n",
            "14         9  0.012602\n",
            "21        16  0.012569\n",
            "18        13  0.012263\n",
            "43        38  0.012116\n",
            "22        17  0.011514\n",
            "9          4  0.011168\n",
            "38        33  0.011109\n",
            "5          0  0.010975\n",
            "19        14  0.010695\n",
            "6          1  0.010510\n",
            "42        37  0.009822\n",
            "36        31  0.008763\n",
            "12         7  0.008668\n",
            "20        15  0.008492\n",
            "+--------------------------------+--------+--------+--------+--------+\n",
            "| Thuật toán | feature selection |  Acc   |  Pre   | Recall |   F1   |\n",
            "+--------------------------------+--------+--------+--------+--------+\n",
            "|         Decision tree          | 0.7653 | 0.7649 | 0.7646 | 0.7648 |\n",
            "|         Random forest          | 0.7635 | 0.7632 | 0.7635 | 0.7633 |\n",
            "|              kNN               | 0.7635 | 0.7632 | 0.7635 | 0.7633 |\n",
            "|           NaiveBayes           | 0.7335 | 0.7483 | 0.7275 | 0.7258 |\n",
            "+--------------------------------+--------+--------+--------+--------+\n"
          ]
        }
      ]
    },
    {
      "cell_type": "markdown",
      "source": [
        "#Task 4. \n",
        "For a given dataset in the Lab #5 (**credit card dataset**), perform feature selection and thencompare the performance of selected classification algorithms (Decision Tree, kNN, Logistic Regression, SVM, Random Forest and NaiveBayes) based on accuracy, precision, recall, f1 measures.\n"
      ],
      "metadata": {
        "id": "Z5pp7_h-aP2u"
      }
    },
    {
      "cell_type": "code",
      "source": [
        "dataset = pd.read_csv('creditcard.csv')\n",
        "X = dataset.iloc[:, 1:-1]\n",
        "y = dataset.iloc[:, -1]\n",
        "X_train, X_test, Y_train, Y_test = train_test_split(X, y, train_size=0.05, test_size=0.05, shuffle=True)\n",
        "\n",
        "#kNN\n",
        "knn = KNeighborsClassifier(n_neighbors=5)\n",
        "knn.fit(X_train, Y_train)\n",
        "y_pred_knn = knn.predict(X_test)\n",
        "\n",
        "accuracy_knn =  round(metrics.accuracy_score(Y_test, y_pred_knn),4)\n",
        "precision_knn =  round(metrics.precision_score(Y_test, y_pred_knn, average='macro'),4)\n",
        "recall_knn =  round(metrics.recall_score(Y_test, y_pred_knn, average='macro'),4)\n",
        "f1_knn =  round(metrics.f1_score(Y_test, y_pred_knn, average='macro'),4)\n",
        "\n",
        "#Decision tree\n",
        "dt = DecisionTreeClassifier(random_state=42)\n",
        "dt.fit(X_train, Y_train)\n",
        "y_pred_dt = dt.predict(X_test)\n",
        "\n",
        "accuracy_dt = round(metrics.accuracy_score(Y_test, y_pred_dt),4)\n",
        "precision_dt =  round(metrics.precision_score(Y_test, y_pred_dt,average='macro'),4)\n",
        "recall_dt =  round(metrics.recall_score(Y_test, y_pred_dt,average='macro'),4)\n",
        "f1_dt =  round(metrics.f1_score(Y_test, y_pred_dt,average='macro'),4)\n",
        "\n",
        "#Hồi quy logistic\n",
        "lgt = LogisticRegression(random_state = 0) \n",
        "lgt.fit(X_train, Y_train)\n",
        "y_pred_lgt = lgt.predict(X_test)\n",
        "\n",
        "accuracy_lgt = round(metrics.accuracy_score(Y_test, y_pred_lgt),4)\n",
        "precision_lgt = round(metrics.precision_score(Y_test, y_pred_lgt, average='macro'),4)\n",
        "recall_lgt = round(metrics.recall_score(Y_test, y_pred_lgt,average='macro'),4)\n",
        "f1_lgt = round(metrics.f1_score(Y_test, y_pred_lgt,average='macro'),4)\n",
        "\n",
        "#SVM\n",
        "svc_linear = SVC(kernel='linear', random_state=0)\n",
        "svc_linear.fit(X_train, Y_train)\n",
        "y_pred_linear = svc_linear.predict(X_test)\n",
        "\n",
        "accuracy_linear = round(metrics.accuracy_score(Y_test, y_pred_linear),4)\n",
        "precision_linear =  round(metrics.precision_score(Y_test, y_pred_linear, average='macro'),4)\n",
        "recall_linear =  round(metrics.recall_score(Y_test, y_pred_linear, average='macro'),4)\n",
        "f1_linear =  round(metrics.f1_score(Y_test, y_pred_linear, average='macro'),4)\n",
        "\n",
        "#Vẽ bảng so sánh\n",
        "table = PrettyTable(['Không selection feature','Acc','Pre','Recall','F1'])\n",
        "\n",
        "table.add_row(['Logictic', accuracy_lgt, precision_lgt, recall_lgt, f1_lgt])\n",
        "table.add_row(['kNN', accuracy_knn, precision_knn, recall_knn, f1_knn])\n",
        "table.add_row(['Decision Tree', accuracy_dt, precision_dt, recall_dt, f1_dt])\n",
        "table.add_row(['SVM', accuracy_linear, precision_linear, recall_linear, f1_linear])\n",
        "print(table)\n",
        "\n",
        "\n",
        "\n",
        "#ExtraTreesClassifier\n",
        "model = ExtraTreesClassifier(n_estimators = 100)\n",
        "model.fit(X_train, Y_train)\n",
        "importances = pd.Series(model.feature_importances_, index=X_train.columns)\n",
        "selected_features = importances.nlargest(10).index.tolist()\n",
        "\n",
        "feature_views = [] \n",
        "scores_view = []\n",
        "for i in range(len(importances)):\n",
        "    feature_views.append(X.columns[i])\n",
        "    scores_view.append(importances[i])\n",
        "\n",
        "df = pd.DataFrame({'feature': feature_views, 'score': scores_view})\n",
        "df = df.sort_values('score', ascending=False)\n",
        "#df = df.reset_index()\n",
        "print('Điểm của các thuộc tính:')\n",
        "print(df.head(30))\n",
        "\n",
        "\n",
        "# Chọn các thuộc tính quan trọng nhất làm đầu vào\n",
        "X_best = X_train[selected_features]\n",
        "X_train, X_test, Y_train, Y_test = train_test_split(X_best, Y_train, test_size=0.2, random_state=42)\n",
        "\n",
        "#kNN\n",
        "knn = KNeighborsClassifier(n_neighbors=5)\n",
        "knn.fit(X_train, Y_train)\n",
        "y_pred_knn = knn.predict(X_test)\n",
        "\n",
        "accuracy_knn =  round(metrics.accuracy_score(Y_test, y_pred_knn),4)\n",
        "precision_knn =  round(metrics.precision_score(Y_test, y_pred_knn, average='macro'),4)\n",
        "recall_knn =  round(metrics.recall_score(Y_test, y_pred_knn, average='macro'),4)\n",
        "f1_knn =  round(metrics.f1_score(Y_test, y_pred_knn, average='macro'),4)\n",
        "\n",
        "#Decision tree\n",
        "dt = DecisionTreeClassifier(random_state=42)\n",
        "dt.fit(X_train, Y_train)\n",
        "y_pred_dt = dt.predict(X_test)\n",
        "\n",
        "accuracy_dt = round(metrics.accuracy_score(Y_test, y_pred_dt),4)\n",
        "precision_dt =  round(metrics.precision_score(Y_test, y_pred_dt,average='macro'),4)\n",
        "recall_dt =  round(metrics.recall_score(Y_test, y_pred_dt,average='macro'),4)\n",
        "f1_dt =  round(metrics.f1_score(Y_test, y_pred_dt,average='macro'),4)\n",
        "\n",
        "#Hồi quy logistic\n",
        "lgt = LogisticRegression(random_state = 0) \n",
        "lgt.fit(X_train, Y_train)\n",
        "y_pred_lgt = lgt.predict(X_test)\n",
        "\n",
        "accuracy_lgt = round(metrics.accuracy_score(Y_test, y_pred_lgt),4)\n",
        "precision_lgt = round(metrics.precision_score(Y_test, y_pred_lgt, average='macro'),4)\n",
        "recall_lgt = round(metrics.recall_score(Y_test, y_pred_lgt,average='macro'),4)\n",
        "f1_lgt = round(metrics.f1_score(Y_test, y_pred_lgt,average='macro'),4)\n",
        "\n",
        "#SVM\n",
        "svc_linear = SVC(kernel='linear', random_state=0)\n",
        "svc_linear.fit(X_train, Y_train)\n",
        "y_pred_linear = svc_linear.predict(X_test)\n",
        "\n",
        "accuracy_linear = round(metrics.accuracy_score(Y_test, y_pred_linear),4)\n",
        "precision_linear =  round(metrics.precision_score(Y_test, y_pred_linear, average='macro'),4)\n",
        "recall_linear =  round(metrics.recall_score(Y_test, y_pred_linear, average='macro'),4)\n",
        "f1_linear =  round(metrics.f1_score(Y_test, y_pred_linear, average='macro'),4)\n",
        "\n",
        "#Vẽ bảng so sánh\n",
        "table = PrettyTable(['Có selection feature','Acc','Pre','Recall','F1'])\n",
        "\n",
        "table.add_row(['Logictic', accuracy_lgt, precision_lgt, recall_lgt, f1_lgt])\n",
        "table.add_row(['kNN', accuracy_knn, precision_knn, recall_knn, f1_knn])\n",
        "table.add_row(['Decision Tree', accuracy_dt, precision_dt, recall_dt, f1_dt])\n",
        "table.add_row(['SVM', accuracy_linear, precision_linear, recall_linear, f1_linear])\n",
        "print(table)\n"
      ],
      "metadata": {
        "id": "Rw_-8FIf2KxW",
        "colab": {
          "base_uri": "https://localhost:8080/"
        },
        "outputId": "a5d657ba-b1fe-47e0-9bb5-d00be9b71c7a"
      },
      "execution_count": 16,
      "outputs": [
        {
          "output_type": "stream",
          "name": "stderr",
          "text": [
            "/usr/local/lib/python3.9/dist-packages/sklearn/linear_model/_logistic.py:458: ConvergenceWarning: lbfgs failed to converge (status=1):\n",
            "STOP: TOTAL NO. of ITERATIONS REACHED LIMIT.\n",
            "\n",
            "Increase the number of iterations (max_iter) or scale the data as shown in:\n",
            "    https://scikit-learn.org/stable/modules/preprocessing.html\n",
            "Please also refer to the documentation for alternative solver options:\n",
            "    https://scikit-learn.org/stable/modules/linear_model.html#logistic-regression\n",
            "  n_iter_i = _check_optimize_result(\n"
          ]
        },
        {
          "output_type": "stream",
          "name": "stdout",
          "text": [
            "+-------------------------+--------+--------+--------+--------+\n",
            "| Không selection feature |  Acc   |  Pre   | Recall |   F1   |\n",
            "+-------------------------+--------+--------+--------+--------+\n",
            "|         Logictic        | 0.9989 | 0.944  | 0.7666 | 0.8331 |\n",
            "|           kNN           | 0.9987 | 0.9994 |  0.7   | 0.7854 |\n",
            "|      Decision Tree      | 0.9974 | 0.7046 | 0.7659 | 0.7312 |\n",
            "|           SVM           | 0.9992 | 0.9746 | 0.8166 | 0.8798 |\n",
            "+-------------------------+--------+--------+--------+--------+\n",
            "Điểm của các thuộc tính:\n",
            "   feature     score\n",
            "16     V17  0.142958\n",
            "11     V12  0.090940\n",
            "13     V14  0.086610\n",
            "15     V16  0.070879\n",
            "9      V10  0.054514\n",
            "10     V11  0.047266\n",
            "17     V18  0.044965\n",
            "3       V4  0.035873\n",
            "6       V7  0.034811\n",
            "28  Amount  0.027885\n",
            "2       V3  0.027339\n",
            "8       V9  0.026996\n",
            "18     V19  0.023175\n",
            "7       V8  0.022660\n",
            "26     V27  0.020890\n",
            "19     V20  0.020279\n",
            "20     V21  0.019710\n",
            "14     V15  0.019293\n",
            "5       V6  0.018596\n",
            "4       V5  0.018426\n",
            "25     V26  0.018345\n",
            "23     V24  0.018257\n",
            "1       V2  0.017923\n",
            "0       V1  0.017033\n",
            "12     V13  0.016870\n",
            "24     V25  0.016384\n",
            "27     V28  0.014444\n",
            "22     V23  0.013440\n",
            "21     V22  0.013240\n"
          ]
        },
        {
          "output_type": "stream",
          "name": "stderr",
          "text": [
            "/usr/local/lib/python3.9/dist-packages/sklearn/linear_model/_logistic.py:458: ConvergenceWarning: lbfgs failed to converge (status=1):\n",
            "STOP: TOTAL NO. of ITERATIONS REACHED LIMIT.\n",
            "\n",
            "Increase the number of iterations (max_iter) or scale the data as shown in:\n",
            "    https://scikit-learn.org/stable/modules/preprocessing.html\n",
            "Please also refer to the documentation for alternative solver options:\n",
            "    https://scikit-learn.org/stable/modules/linear_model.html#logistic-regression\n",
            "  n_iter_i = _check_optimize_result(\n"
          ]
        },
        {
          "output_type": "stream",
          "name": "stdout",
          "text": [
            "+----------------------+--------+--------+--------+--------+\n",
            "| Có selection feature |  Acc   |  Pre   | Recall |   F1   |\n",
            "+----------------------+--------+--------+--------+--------+\n",
            "|       Logictic       | 0.9989 | 0.7496 | 0.6665 | 0.6997 |\n",
            "|         kNN          | 0.9993 | 0.9996 | 0.6667 | 0.7498 |\n",
            "|    Decision Tree     | 0.9993 |  0.8   | 0.9996 | 0.8748 |\n",
            "|         SVM          | 0.9996 | 0.875  | 0.9998 | 0.9285 |\n",
            "+----------------------+--------+--------+--------+--------+\n"
          ]
        }
      ]
    },
    {
      "cell_type": "markdown",
      "source": [
        "#Finally,\n",
        "Save a copy in your Github. Remember renaming the notebook."
      ],
      "metadata": {
        "id": "Ok7RGkea_b7n"
      }
    }
  ]
}