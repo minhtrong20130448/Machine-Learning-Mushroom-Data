{
  "nbformat": 4,
  "nbformat_minor": 0,
  "metadata": {
    "colab": {
      "provenance": [],
      "authorship_tag": "ABX9TyNyCuTOtKk7NGe0oHLoJ7FA",
      "include_colab_link": true
    },
    "kernelspec": {
      "name": "python3",
      "display_name": "Python 3"
    },
    "language_info": {
      "name": "python"
    }
  },
  "cells": [
    {
      "cell_type": "markdown",
      "metadata": {
        "id": "view-in-github",
        "colab_type": "text"
      },
      "source": [
        "<a href=\"https://colab.research.google.com/github/minhtrong20130448/ML/blob/main/Project.ipynb\" target=\"_parent\"><img src=\"https://colab.research.google.com/assets/colab-badge.svg\" alt=\"Open In Colab\"/></a>"
      ]
    },
    {
      "cell_type": "markdown",
      "source": [
        "Load dataset"
      ],
      "metadata": {
        "id": "EdpzmR2fTDkY"
      }
    },
    {
      "cell_type": "code",
      "source": [
        "import numpy as np\n",
        "import pandas as pd\n",
        "import seaborn as sns\n",
        "from sklearn.impute import SimpleImputer\n",
        "from sklearn.preprocessing import StandardScaler\n",
        "from sklearn.preprocessing import LabelEncoder\n",
        "from sklearn.model_selection import train_test_split\n",
        "from sklearn.linear_model import LogisticRegression\n",
        "from sklearn.svm import SVC\n",
        "from sklearn.neural_network import MLPClassifier\n",
        "from sklearn import metrics"
      ],
      "metadata": {
        "id": "AUxpX0OSiUg0"
      },
      "execution_count": null,
      "outputs": []
    },
    {
      "cell_type": "code",
      "execution_count": null,
      "metadata": {
        "id": "p1xGeaBuTAID",
        "colab": {
          "base_uri": "https://localhost:8080/"
        },
        "outputId": "4c60ab3d-018c-401d-d4a8-ea13f1376129"
      },
      "outputs": [
        {
          "output_type": "stream",
          "name": "stdout",
          "text": [
            "Mounted at /content/gdrive\n",
            "/content/gdrive/MyDrive/ProjectML\n"
          ]
        }
      ],
      "source": [
        "from google.colab import drive\n",
        "drive.mount('/content/gdrive')\n",
        "%cd '/content/gdrive/MyDrive/ProjectML'"
      ]
    },
    {
      "cell_type": "markdown",
      "source": [
        "Load data"
      ],
      "metadata": {
        "id": "A2WnnLpb2jnq"
      }
    },
    {
      "cell_type": "code",
      "source": [
        "data = pd.read_csv('mushroom.csv', delimiter=';')\n",
        "data['stalk-root']"
      ],
      "metadata": {
        "id": "PEbIkIDmT5oA",
        "colab": {
          "base_uri": "https://localhost:8080/"
        },
        "outputId": "f0fc6f90-75fe-445b-e418-4aa255b8fd80"
      },
      "execution_count": null,
      "outputs": [
        {
          "output_type": "execute_result",
          "data": {
            "text/plain": [
              "0         e\n",
              "1         c\n",
              "2         c\n",
              "3         e\n",
              "4         e\n",
              "       ... \n",
              "8119    NaN\n",
              "8120    NaN\n",
              "8121    NaN\n",
              "8122    NaN\n",
              "8123    NaN\n",
              "Name: stalk-root, Length: 8124, dtype: object"
            ]
          },
          "metadata": {},
          "execution_count": 3
        }
      ]
    },
    {
      "cell_type": "code",
      "source": [
        "data.isnull().sum()"
      ],
      "metadata": {
        "colab": {
          "base_uri": "https://localhost:8080/"
        },
        "id": "ZEByPoM_iB6v",
        "outputId": "df588206-258f-4bcd-f13f-4ab5723ac0d3"
      },
      "execution_count": null,
      "outputs": [
        {
          "output_type": "execute_result",
          "data": {
            "text/plain": [
              "classes                        0\n",
              "cap-shape                      0\n",
              "cap-surface                    0\n",
              "cap-color                      0\n",
              "bruises                        0\n",
              "odor                           0\n",
              "gill-attachment                0\n",
              "gill-spacing                   0\n",
              "gill-size                      0\n",
              "gill-color                     0\n",
              "stalk-shape                    0\n",
              "stalk-root                  2480\n",
              "stalk-surface-above-ring       0\n",
              "stalk-surface-below-ring       0\n",
              "stalk-color-above-ring         0\n",
              "stalk-color-below-ring         0\n",
              "veil-type                      0\n",
              "veil-color                     0\n",
              "ring-number                    0\n",
              "ring-type                      0\n",
              "spore-print-color              0\n",
              "population                     0\n",
              "habitat                        0\n",
              "dtype: int64"
            ]
          },
          "metadata": {},
          "execution_count": 4
        }
      ]
    },
    {
      "cell_type": "markdown",
      "source": [
        "# Preprocessing"
      ],
      "metadata": {
        "id": "OrLhqLy_3FID"
      }
    },
    {
      "cell_type": "markdown",
      "source": [
        "* **Handle Missing**"
      ],
      "metadata": {
        "id": "F9K_bWWC4rIZ"
      }
    },
    {
      "cell_type": "code",
      "source": [
        "imputer = SimpleImputer(strategy='most_frequent')\n",
        "data['stalk-root'] = imputer.fit_transform(data[['stalk-root']])"
      ],
      "metadata": {
        "id": "43kR0Xva47R3"
      },
      "execution_count": null,
      "outputs": []
    },
    {
      "cell_type": "code",
      "source": [
        "data['stalk-root']"
      ],
      "metadata": {
        "colab": {
          "base_uri": "https://localhost:8080/"
        },
        "id": "d4fq6VdfWBBX",
        "outputId": "eeffc3fc-8ff9-455d-fc9a-6b7dadced9f3"
      },
      "execution_count": null,
      "outputs": [
        {
          "output_type": "execute_result",
          "data": {
            "text/plain": [
              "0       e\n",
              "1       c\n",
              "2       c\n",
              "3       e\n",
              "4       e\n",
              "       ..\n",
              "8119    b\n",
              "8120    b\n",
              "8121    b\n",
              "8122    b\n",
              "8123    b\n",
              "Name: stalk-root, Length: 8124, dtype: object"
            ]
          },
          "metadata": {},
          "execution_count": 6
        }
      ]
    },
    {
      "cell_type": "code",
      "source": [
        "data.dropna(inplace=True)\n",
        "data['stalk-root']"
      ],
      "metadata": {
        "colab": {
          "base_uri": "https://localhost:8080/"
        },
        "id": "Bm06oNyI05-5",
        "outputId": "f82018b4-0d8e-4333-c5d0-b91a5c4fe8a8"
      },
      "execution_count": null,
      "outputs": [
        {
          "output_type": "execute_result",
          "data": {
            "text/plain": [
              "0       e\n",
              "1       c\n",
              "2       c\n",
              "3       e\n",
              "4       e\n",
              "       ..\n",
              "7986    b\n",
              "8001    b\n",
              "8038    b\n",
              "8095    c\n",
              "8114    c\n",
              "Name: stalk-root, Length: 5644, dtype: object"
            ]
          },
          "metadata": {},
          "execution_count": 4
        }
      ]
    },
    {
      "cell_type": "markdown",
      "source": [
        "* **Encoder**\n"
      ],
      "metadata": {
        "id": "Hiz3N9M53dFE"
      }
    },
    {
      "cell_type": "code",
      "source": [
        "mappings = list()\n",
        "\n",
        "encoder = LabelEncoder()\n",
        "\n",
        "for column in range(len(data.columns)):\n",
        "  data[data.columns[column]] = encoder.fit_transform(data[data.columns[column]])\n",
        "\n",
        "print(data['stalk-root'])"
      ],
      "metadata": {
        "id": "aKj1sBuvkBEr",
        "colab": {
          "base_uri": "https://localhost:8080/"
        },
        "outputId": "efacb569-5056-4de8-a0a8-8784901fa598"
      },
      "execution_count": null,
      "outputs": [
        {
          "output_type": "stream",
          "name": "stdout",
          "text": [
            "0       2\n",
            "1       1\n",
            "2       1\n",
            "3       2\n",
            "4       2\n",
            "       ..\n",
            "7986    0\n",
            "8001    0\n",
            "8038    0\n",
            "8095    1\n",
            "8114    1\n",
            "Name: stalk-root, Length: 5644, dtype: int64\n"
          ]
        }
      ]
    },
    {
      "cell_type": "markdown",
      "source": [],
      "metadata": {
        "id": "izBcNYzjjmjS"
      }
    },
    {
      "cell_type": "code",
      "source": [
        "data['stalk-root']"
      ],
      "metadata": {
        "colab": {
          "base_uri": "https://localhost:8080/"
        },
        "id": "1wwKZOt4mZfD",
        "outputId": "20c0a9e2-6d12-4ece-8eef-0221dd27225b"
      },
      "execution_count": null,
      "outputs": [
        {
          "output_type": "execute_result",
          "data": {
            "text/plain": [
              "0       2\n",
              "1       1\n",
              "2       1\n",
              "3       2\n",
              "4       2\n",
              "       ..\n",
              "7986    0\n",
              "8001    0\n",
              "8038    0\n",
              "8095    1\n",
              "8114    1\n",
              "Name: stalk-root, Length: 5644, dtype: int64"
            ]
          },
          "metadata": {},
          "execution_count": 6
        }
      ]
    },
    {
      "cell_type": "markdown",
      "source": [
        "* **Feature Scaling**"
      ],
      "metadata": {
        "id": "-uxaPRqD5Gke"
      }
    },
    {
      "cell_type": "code",
      "source": [
        "X = data.drop('classes', axis=1);\n",
        "y = data['classes']"
      ],
      "metadata": {
        "id": "f6XG4gHco_oe"
      },
      "execution_count": null,
      "outputs": []
    },
    {
      "cell_type": "code",
      "source": [
        "scaler = StandardScaler()\n",
        "X = pd.DataFrame(scaler.fit_transform(X), columns = X.columns)\n",
        "print(X['stalk-root'])"
      ],
      "metadata": {
        "colab": {
          "base_uri": "https://localhost:8080/"
        },
        "id": "v47W05VkpXGl",
        "outputId": "a72a4633-ef6a-4ded-c4cf-88fe2f23477b"
      },
      "execution_count": null,
      "outputs": [
        {
          "output_type": "stream",
          "name": "stdout",
          "text": [
            "0       1.528948\n",
            "1       0.438829\n",
            "2       0.438829\n",
            "3       1.528948\n",
            "4       1.528948\n",
            "          ...   \n",
            "5639   -0.651290\n",
            "5640   -0.651290\n",
            "5641   -0.651290\n",
            "5642    0.438829\n",
            "5643    0.438829\n",
            "Name: stalk-root, Length: 5644, dtype: float64\n"
          ]
        }
      ]
    },
    {
      "cell_type": "markdown",
      "source": [
        " * **Split Dataset**"
      ],
      "metadata": {
        "id": "FukA_fci7BWS"
      }
    },
    {
      "cell_type": "code",
      "source": [
        "X_train, X_test, y_train, y_test = train_test_split(X, y, test_size=0.2)"
      ],
      "metadata": {
        "id": "tH1D-7UEripI"
      },
      "execution_count": null,
      "outputs": []
    },
    {
      "cell_type": "markdown",
      "source": [
        "# Training"
      ],
      "metadata": {
        "id": "7ZdYUVpD7P17"
      }
    },
    {
      "cell_type": "code",
      "source": [
        "lr = LogisticRegression()\n",
        "lr.fit(X_train, y_train)\n",
        "y_pred = lr.predict(X_test)\n",
        "print(lr.score(X_test, y_test))\n",
        "print(round(metrics.accuracy_score(y_test, y_pred), 4))\n",
        "print(round(metrics.precision_score(y_test, y_pred), 4))\n",
        "print(round(metrics.recall_score(y_test, y_pred), 4))\n",
        "print(round(metrics.f1_score(y_test, y_pred), 4))"
      ],
      "metadata": {
        "colab": {
          "base_uri": "https://localhost:8080/"
        },
        "id": "lG2_CVYbq7eh",
        "outputId": "cfcbd26c-0293-452e-ee96-7543a16e3f4e"
      },
      "execution_count": null,
      "outputs": [
        {
          "output_type": "stream",
          "name": "stdout",
          "text": [
            "0.9849424269264836\n",
            "0.9849\n",
            "0.9881\n",
            "0.9719\n",
            "0.9799\n"
          ]
        }
      ]
    },
    {
      "cell_type": "code",
      "source": [
        "svm = SVC(C=1.0, kernel='rbf')\n",
        "svm.fit(X_train, y_train)\n",
        "y_pred = svm.predict(X_test)\n",
        "print(svm.score(X_test, y_test))\n",
        "print(round(metrics.accuracy_score(y_test, y_pred), 4))\n",
        "print(round(metrics.precision_score(y_test, y_pred), 4))\n",
        "print(round(metrics.recall_score(y_test, y_pred), 4))\n",
        "print(round(metrics.f1_score(y_test, y_pred), 4))"
      ],
      "metadata": {
        "colab": {
          "base_uri": "https://localhost:8080/"
        },
        "id": "5Gq7dQJ-sEeL",
        "outputId": "915626e5-131b-4d24-9f7f-6602f421b9e6"
      },
      "execution_count": null,
      "outputs": [
        {
          "output_type": "stream",
          "name": "stdout",
          "text": [
            "1.0\n",
            "1.0\n",
            "1.0\n",
            "1.0\n",
            "1.0\n"
          ]
        }
      ]
    },
    {
      "cell_type": "code",
      "source": [
        "nn = MLPClassifier(hidden_layer_sizes=(128,128))\n",
        "nn.fit(X_train, y_train)\n",
        "print(nn.score(X_test, y_test))"
      ],
      "metadata": {
        "colab": {
          "base_uri": "https://localhost:8080/"
        },
        "id": "BJ3OFNa-rhGJ",
        "outputId": "5af09683-5e9e-4e2a-e84b-ace23ee27c5f"
      },
      "execution_count": null,
      "outputs": [
        {
          "output_type": "stream",
          "name": "stdout",
          "text": [
            "1.0\n"
          ]
        }
      ]
    },
    {
      "cell_type": "code",
      "source": [
        "corr = data.corr()\n",
        "sns.heatmap(corr)"
      ],
      "metadata": {
        "colab": {
          "base_uri": "https://localhost:8080/",
          "height": 608
        },
        "id": "zwuW41zTsd6x",
        "outputId": "fb90d19d-fbd2-4452-87ce-20ea05808631"
      },
      "execution_count": null,
      "outputs": [
        {
          "output_type": "execute_result",
          "data": {
            "text/plain": [
              "<Axes: >"
            ]
          },
          "metadata": {},
          "execution_count": 35
        },
        {
          "output_type": "display_data",
          "data": {
            "text/plain": [
              "<Figure size 640x480 with 2 Axes>"
            ],
            "image/png": "[encoded data removed]"
          },
          "metadata": {}
        }
      ]
    }
  ]
}