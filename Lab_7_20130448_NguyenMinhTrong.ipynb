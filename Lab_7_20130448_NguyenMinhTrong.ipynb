{
  "nbformat": 4,
  "nbformat_minor": 0,
  "metadata": {
    "colab": {
      "provenance": [],
      "include_colab_link": true
    },
    "kernelspec": {
      "name": "python3",
      "display_name": "Python 3"
    },
    "language_info": {
      "name": "python"
    }
  },
  "cells": [
    {
      "cell_type": "markdown",
      "metadata": {
        "id": "view-in-github",
        "colab_type": "text"
      },
      "source": [
        "<a href=\"https://colab.research.google.com/github/minhtrong20130448/ML/blob/main/Lab_7_20130448_NguyenMinhTrong.ipynb\" target=\"_parent\"><img src=\"https://colab.research.google.com/assets/colab-badge.svg\" alt=\"Open In Colab\"/></a>"
      ]
    },
    {
      "cell_type": "markdown",
      "source": [
        "# This lab deals with **cross validation** for some classification algorithms and **clustering methods**. \n",
        "\n",
        "*   **Deadline: 23:59, 10/4/2023**\n",
        "\n"
      ],
      "metadata": {
        "id": "LMzehe0sy5wr"
      }
    },
    {
      "cell_type": "markdown",
      "source": [
        "# Import libraries"
      ],
      "metadata": {
        "id": "H4nJmxp9zGX4"
      }
    },
    {
      "cell_type": "code",
      "execution_count": 35,
      "metadata": {
        "id": "DoVWQ8AEyc-C"
      },
      "outputs": [],
      "source": [
        "from sklearn import datasets\n",
        "from sklearn.svm import SVC\n",
        "from sklearn.model_selection import train_test_split\n",
        "from prettytable import PrettyTable\n",
        "from sklearn.preprocessing import StandardScaler\n",
        "from sklearn import metrics\n",
        "import pandas as pd\n",
        "import matplotlib.pyplot as plt\n",
        "import numpy as np\n",
        "from sklearn import metrics\n",
        "\n",
        "from sklearn.model_selection import cross_val_score\n",
        "from sklearn.model_selection import cross_validate\n",
        "\n",
        "from sklearn.cluster import KMeans\n",
        "from sklearn.naive_bayes import GaussianNB\n",
        "\n",
        "from sklearn.feature_selection import SelectKBest\n",
        "from sklearn.feature_selection import f_classif,chi2\n",
        "from sklearn.ensemble import RandomForestClassifier\n",
        "from sklearn.neighbors import KNeighborsClassifier\n",
        "\n",
        "from scipy.stats import mode"
      ]
    },
    {
      "cell_type": "markdown",
      "source": [
        "#Task 1. With **iris** dataset\n",
        "*  1.1. Apply **SVM** algorithm with cross validation\n"
      ],
      "metadata": {
        "id": "x_dG9SA5OhGT"
      }
    },
    {
      "cell_type": "code",
      "source": [
        "\n",
        "iris = datasets.load_iris()\n",
        "X = iris.data\n",
        "y = iris.target\n",
        "X_train, X_test, Y_train, Y_test = train_test_split(X, y, test_size=0.3, random_state=0)\n",
        "\n",
        "svc_linear = SVC(kernel='linear', random_state=0)\n",
        "scoring = ['accuracy', 'precision_macro', 'recall_macro', 'f1_macro']\n",
        "scores = cross_validate(svc_linear, X_train, Y_train, scoring=scoring, cv=10)\n",
        "\n",
        "print(sorted(scores.keys()))\n",
        "print(np.mean(scores['fit_time']))\n",
        "print(np.mean(scores['score_time']))\n",
        "print(np.mean(scores['test_accuracy']))\n",
        "print(np.mean(scores['test_precision_macro']))\n",
        "print(np.mean(scores['test_recall_macro']))\n",
        "print(np.mean(scores['test_f1_macro']))"
      ],
      "metadata": {
        "id": "62jExOZ952fF",
        "colab": {
          "base_uri": "https://localhost:8080/"
        },
        "outputId": "2d03fa5b-5b63-42f8-9a61-20840e5ce79c"
      },
      "execution_count": 23,
      "outputs": [
        {
          "output_type": "stream",
          "name": "stdout",
          "text": [
            "['fit_time', 'score_time', 'test_accuracy', 'test_f1_macro', 'test_precision_macro', 'test_recall_macro']\n",
            "0.008866691589355468\n",
            "0.017290425300598145\n",
            "0.9800000000000001\n",
            "0.9866666666666667\n",
            "0.9777777777777779\n",
            "0.979259259259259\n"
          ]
        }
      ]
    },
    {
      "cell_type": "markdown",
      "source": [
        "*  1.2 Apply **feature selection** to the dataset and then use **RandomForest** algorithm with cross validation "
      ],
      "metadata": {
        "id": "2g--8cng53sY"
      }
    },
    {
      "cell_type": "code",
      "source": [
        "X,y = datasets.load_iris(return_X_y=True);\n",
        "\n",
        "X_new = SelectKBest(chi2, k=2).fit_transform(X,y);\n",
        "\n",
        "X_train, X_test, Y_train, Y_test = train_test_split(X_new, y, test_size=0.3, random_state=42)\n",
        "\n",
        "rf = RandomForestClassifier(n_estimators=100, random_state=42)\n",
        "\n",
        "scoring = ['accuracy', 'precision_macro', 'recall_macro', 'f1_macro']\n",
        "scores = cross_validate(rf, X_train, Y_train, scoring=scoring, cv=10)\n",
        "\n",
        "print(sorted(scores.keys()))\n",
        "print(np.mean(scores['fit_time']))\n",
        "print(np.mean(scores['score_time']))\n",
        "print(np.mean(scores['test_accuracy']))\n",
        "print(np.mean(scores['test_precision_macro']))\n",
        "print(np.mean(scores['test_recall_macro']))\n",
        "print(np.mean(scores['test_f1_macro']))"
      ],
      "metadata": {
        "id": "fX0_kItYPism",
        "colab": {
          "base_uri": "https://localhost:8080/"
        },
        "outputId": "a0a37a7c-864d-4035-aa09-4d8fff7aa32b"
      },
      "execution_count": 24,
      "outputs": [
        {
          "output_type": "stream",
          "name": "stdout",
          "text": [
            "['fit_time', 'score_time', 'test_accuracy', 'test_f1_macro', 'test_precision_macro', 'test_recall_macro']\n",
            "0.5672954082489013\n",
            "0.0567816972732544\n",
            "0.9445454545454547\n",
            "0.9544444444444442\n",
            "0.9472222222222222\n",
            "0.9447883597883597\n"
          ]
        }
      ]
    },
    {
      "cell_type": "markdown",
      "source": [
        "#Task 2. With mnist dataset: \n",
        "*   2.1. Apply **K-Means** algorithm using k=10, "
      ],
      "metadata": {
        "id": "kNv07ARGzOUm"
      }
    },
    {
      "cell_type": "code",
      "source": [
        "dataset_mnist = datasets.load_digits()\n",
        "# X = dataset_mnist.data\n",
        "X = StandardScaler().fit_transform(dataset_mnist.data)\n",
        "Y = dataset_mnist.target\n",
        "kmeans = KMeans(n_clusters=10, random_state=42)\n",
        "kmeans.fit(X)\n",
        "clusters = kmeans.predict(X)\n",
        "accuracy_kmeans =  round(metrics.accuracy_score(Y, clusters),4)\n",
        "centroids = kmeans.cluster_centers_\n",
        "\n",
        "#Gán lại nhãn\n",
        "labels = np.zeros_like(clusters)\n",
        "\n",
        "for i in range(10):\n",
        "  mask = (clusters == i)\n",
        "  labels[mask] = mode(dataset_mnist.target[mask])[0][0]\n",
        "\n",
        "target_mnist = dataset_mnist.target\n",
        "\n",
        "accuracy_kmeans = round(metrics.accuracy_score(target_mnist, labels), 4)\n",
        "precision_kmeans = round(metrics.precision_score(target_mnist, labels, average='macro'), 4)\n",
        "recall_kmeans = round(metrics.recall_score(target_mnist, labels, average='macro'), 4)\n",
        "f1_kmeans = round(metrics.f1_score(target_mnist, labels, average='macro'), 4)\n",
        "\n",
        "print(accuracy_kmeans)\n",
        "print(precision_kmeans)\n",
        "print(recall_kmeans)\n",
        "print(f1_kmeans)"
      ],
      "metadata": {
        "id": "sOsg77IBzEyo",
        "colab": {
          "base_uri": "https://localhost:8080/"
        },
        "outputId": "61b91bf7-e509-473e-dde1-485948a1a63f"
      },
      "execution_count": 45,
      "outputs": [
        {
          "output_type": "stream",
          "name": "stderr",
          "text": [
            "/usr/local/lib/python3.9/dist-packages/sklearn/cluster/_kmeans.py:870: FutureWarning: The default value of `n_init` will change from 10 to 'auto' in 1.4. Set the value of `n_init` explicitly to suppress the warning\n",
            "  warnings.warn(\n"
          ]
        },
        {
          "output_type": "stream",
          "name": "stdout",
          "text": [
            "0.621\n",
            "0.5524\n",
            "0.622\n",
            "0.5701\n"
          ]
        },
        {
          "output_type": "stream",
          "name": "stderr",
          "text": [
            "<ipython-input-45-04e3fad7e486>:16: FutureWarning: Unlike other reduction functions (e.g. `skew`, `kurtosis`), the default behavior of `mode` typically preserves the axis it acts along. In SciPy 1.11.0, this behavior will change: the default value of `keepdims` will become False, the `axis` over which the statistic is taken will be eliminated, and the value None will no longer be accepted. Set `keepdims` to True or False to avoid this warning.\n",
            "  labels[mask] = mode(dataset_mnist.target[mask])[0][0]\n",
            "/usr/local/lib/python3.9/dist-packages/sklearn/metrics/_classification.py:1344: UndefinedMetricWarning: Precision is ill-defined and being set to 0.0 in labels with no predicted samples. Use `zero_division` parameter to control this behavior.\n",
            "  _warn_prf(average, modifier, msg_start, len(result))\n"
          ]
        }
      ]
    },
    {
      "cell_type": "markdown",
      "source": [
        "*   2.2. Compare the obtained result with with other classification algorithms such as **Randomforest**, **kNN**, and **Naïve Bayes** in terms of accuracy, precision, recall, f1 using cross validation. \n"
      ],
      "metadata": {
        "id": "pnoVB8J4vV36"
      }
    },
    {
      "cell_type": "code",
      "source": [
        "X_train, X_test, Y_train, Y_test = train_test_split(X, Y, test_size=0.3, random_state=42)\n",
        "scoring = ['accuracy', 'precision_macro', 'recall_macro', 'f1_macro']\n",
        "\n",
        "#Randomforest\n",
        "rf = RandomForestClassifier(n_estimators=100, random_state=42)\n",
        "scores = cross_validate(rf, X_train, Y_train, scoring=scoring, cv=10)\n",
        "accuracy_rf = round(np.mean(scores['test_accuracy']), 4)\n",
        "precision_rf = round(np.mean(scores['test_precision_macro']), 4)\n",
        "recall_rf = round(np.mean(scores['test_recall_macro']), 4)\n",
        "f1_rf = round(np.mean(scores['test_f1_macro']), 4)\n",
        "\n",
        "#Naive Bayes\n",
        "model = GaussianNB()\n",
        "scores = cross_validate(model, X_train, Y_train, scoring=scoring, cv=10)\n",
        "accuracy_nb = round(np.mean(scores['test_accuracy']), 4)\n",
        "precision_nb = round(np.mean(scores['test_precision_macro']), 4)\n",
        "recall_nb = round(np.mean(scores['test_recall_macro']), 4)\n",
        "f1_nb = round(np.mean(scores['test_f1_macro']), 4)\n",
        "\n",
        "\n",
        "#knn\n",
        "knn = KNeighborsClassifier(n_neighbors=5)\n",
        "scores = cross_validate(knn, X_train, Y_train, scoring=scoring, cv=10)\n",
        "accuracy_knn = round(np.mean(scores['test_accuracy']), 4)\n",
        "precision_knn = round(np.mean(scores['test_precision_macro']), 4)\n",
        "recall_knn = round(np.mean(scores['test_recall_macro']), 4)\n",
        "f1_knn = round(np.mean(scores['test_f1_macro']), 4)\n",
        "\n",
        "\n",
        "#Vẽ bảng so sánh\n",
        "table = PrettyTable(['Thuật toán','Acc','Pre','Recall','F1'])\n",
        "table.add_row(['K-Means', accuracy_kmeans, precision_kmeans, recall_kmeans, f1_kmeans])\n",
        "table.add_row(['Random Forest', accuracy_rf, precision_rf, recall_rf, f1_rf])\n",
        "table.add_row(['NaiveBayes', accuracy_nb, precision_nb, recall_nb, f1_nb])\n",
        "table.add_row(['kNN', accuracy_knn, precision_knn, recall_knn, f1_knn])\n",
        "print(table)"
      ],
      "metadata": {
        "id": "-ZTSvsJdvYqI",
        "colab": {
          "base_uri": "https://localhost:8080/"
        },
        "outputId": "a52d88de-03bc-4444-96c2-1e1fb79721ad"
      },
      "execution_count": 50,
      "outputs": [
        {
          "output_type": "stream",
          "name": "stdout",
          "text": [
            "+---------------+--------+--------+--------+--------+\n",
            "|   Thuật toán  |  Acc   |  Pre   | Recall |   F1   |\n",
            "+---------------+--------+--------+--------+--------+\n",
            "|    K-Means    | 0.621  | 0.5524 | 0.622  | 0.5701 |\n",
            "| Random Forest | 0.9674 |  0.97  | 0.9675 | 0.9671 |\n",
            "|   NaiveBayes  | 0.7734 | 0.8308 | 0.7753 | 0.7713 |\n",
            "|      kNN      | 0.9737 | 0.9757 | 0.9736 | 0.9736 |\n",
            "+---------------+--------+--------+--------+--------+\n"
          ]
        }
      ]
    },
    {
      "cell_type": "markdown",
      "source": [
        "*   2.3. From the obtained results, **which approach is better** for this problem: Supervised learning or Unsupervised learning?"
      ],
      "metadata": {
        "id": "uyey-ndXvZlb"
      }
    },
    {
      "cell_type": "code",
      "source": [
        "# Từ kết quả thu được cho thấy học có giám sát là cách tiếp cận tốt hơn cho bài toán này "
      ],
      "metadata": {
        "id": "Qzh_D-rgvbv9"
      },
      "execution_count": null,
      "outputs": []
    },
    {
      "cell_type": "markdown",
      "source": [
        "2.4. Apply **AgglomerativeClustering** algorithm to mnist dataset using the number of clusters is 10"
      ],
      "metadata": {
        "id": "ol1U_T_NvcqV"
      }
    },
    {
      "cell_type": "markdown",
      "source": [
        "#Task 3. \n",
        "For given dataset (shopping-data.csv) including 5 attributes: **CustomerID**, **Genre**, **Age**, **Annual Income**, and **Spending Score**.\n",
        "*   3.1. Using the **scipy library** to create the dendrograms for the given dataset (remember drop categorical attributes: **CustomerID**, **Genre**)\n",
        "\n",
        "\n",
        "\n"
      ],
      "metadata": {
        "id": "b52OPWPD2afi"
      }
    },
    {
      "cell_type": "code",
      "source": [
        "from google.colab import drive\n",
        "drive.mount('/content/gdrive')\n",
        "%cd '/content/gdrive/MyDrive/Lab7'"
      ],
      "metadata": {
        "colab": {
          "base_uri": "https://localhost:8080/"
        },
        "id": "_bEGAdKvlaHD",
        "outputId": "89daff86-3c94-4a3a-e51f-db00906dbee1"
      },
      "execution_count": 51,
      "outputs": [
        {
          "output_type": "stream",
          "name": "stdout",
          "text": [
            "Mounted at /content/gdrive\n",
            "/content/gdrive/MyDrive/Lab7\n"
          ]
        }
      ]
    },
    {
      "cell_type": "code",
      "source": [
        "from scipy.cluster.hierarchy import dendrogram, linkage\n",
        "import matplotlib.pyplot as plt"
      ],
      "metadata": {
        "id": "9ox_UnqBq9as"
      },
      "execution_count": 54,
      "outputs": []
    },
    {
      "cell_type": "code",
      "source": [
        "shopping_dataset = pd.read_csv('shopping-data.csv')\n",
        "\n",
        "shopping_dataset = shopping_dataset.drop(['CustomerID', 'Genre'], axis=1)\n",
        "\n",
        "Z = linkage(shopping_dataset, method='ward')\n",
        "\n",
        "# Vẽ chương trình dendrogram\n",
        "plt.figure(figsize=(10, 6))\n",
        "plt.title(\"Shopping Data Dendograms\")\n",
        "dendrogram(Z, leaf_rotation=90, leaf_font_size=8)\n",
        "plt.show()"
      ],
      "metadata": {
        "id": "YYY2dLtH3P8H",
        "colab": {
          "base_uri": "https://localhost:8080/",
          "height": 552
        },
        "outputId": "6181d732-b2b9-44fe-fbae-16c0c9907f2c"
      },
      "execution_count": 71,
      "outputs": [
        {
          "output_type": "display_data",
          "data": {
            "text/plain": [
              "<Figure size 1000x600 with 1 Axes>"
            ],
            "image/png": "[encoded data removed]"
          },
          "metadata": {}
        }
      ]
    },
    {
      "cell_type": "markdown",
      "source": [
        "*   3.2. Apply K-Means to the preprocessed dataset with k belongs to [2,10]. Then compute SSE values and plot them to find the best value of k."
      ],
      "metadata": {
        "id": "eHlh_dWUyEMr"
      }
    },
    {
      "cell_type": "code",
      "source": [
        "kmeans = KMeans(n_clusters=3, n_init=10, init='k-means++', random_state=42)\n",
        "kmeans.fit(shopping_dataset)\n",
        "clusters = kmeans.predict(shopping_dataset)\n",
        "centroids = kmeans.cluster_centers_\n",
        "shopping_dataset = StandardScaler().fit_transform(shopping_dataset)\n",
        "\n",
        "#SSE\n",
        "sse = []\n",
        "for k in range(2, 11): \n",
        " kmeans = KMeans(n_clusters=k, n_init=10, init='k-means++', random_state = 0) \n",
        " kmeans.fit(shopping_dataset) \n",
        " sse.append(kmeans.inertia_)\n",
        "\n",
        "print(sse)\n",
        "\n",
        "plt.plot(range(2, 11), sse)\n",
        "plt.title('Biểu đồ thể hiện SSE theo k')\n",
        "plt.xlabel('k')\n",
        "plt.ylabel('SSE')\n",
        "plt.show()\n",
        "\n",
        "# Giá trị tốt nhất của k\n",
        "\n",
        "# tính điểm cực tiểu của đạo hàm bậc 2\n",
        "# để tìm giá trị mà k mà ở đó sse giảm chậm hơn\n",
        "deltas = np.diff(sse, 2) \n",
        "\n",
        "k_best = np.argmin(deltas) + 2 #trừ đi 2 vì bắt đầu từ 2 đến 10\n",
        "print(\"Giá trị tốt nhất cho k:\", k_best)"
      ],
      "metadata": {
        "id": "8vx3mfIidu4P",
        "colab": {
          "base_uri": "https://localhost:8080/",
          "height": 528
        },
        "outputId": "1dbf1c3d-d6ef-45e9-9071-6f5e4cd0941c"
      },
      "execution_count": 69,
      "outputs": [
        {
          "output_type": "stream",
          "name": "stdout",
          "text": [
            "[389.3861889564372, 295.45624492135573, 205.22514747675928, 168.2475801755684, 133.8888702113103, 117.16911517019713, 103.9442363296738, 93.61455312876808, 81.84894954697741]\n"
          ]
        },
        {
          "output_type": "display_data",
          "data": {
            "text/plain": [
              "<Figure size 640x480 with 1 Axes>"
            ],
            "image/png": "[encoded data removed]"
          },
          "metadata": {}
        },
        {
          "output_type": "stream",
          "name": "stdout",
          "text": [
            "Giá trị tốt nhất cho k: 8\n"
          ]
        }
      ]
    },
    {
      "cell_type": "markdown",
      "source": [
        "*   3.2. From the obtained dengrograms, choose an appropriate number of clusters and apply **AgglomerativeClustering** algorithm to the given dataset"
      ],
      "metadata": {
        "id": "RJpsTIiyv-1h"
      }
    },
    {
      "cell_type": "code",
      "source": [
        "from sklearn.cluster import AgglomerativeClustering\n",
        "cluster = AgglomerativeClustering(n_clusters=3, linkage='ward')\n",
        "cluster.fit_predict(shopping_dataset)\n",
        "print(cluster.labels_)"
      ],
      "metadata": {
        "id": "5ZE7A0Au1Pg0",
        "colab": {
          "base_uri": "https://localhost:8080/"
        },
        "outputId": "e6b315bc-6d49-4e32-9562-0624c3da70d7"
      },
      "execution_count": 77,
      "outputs": [
        {
          "output_type": "stream",
          "name": "stdout",
          "text": [
            "[0 0 0 0 0 0 0 0 0 0 0 0 0 0 0 0 0 0 0 0 0 0 0 0 0 0 0 0 0 0 0 0 0 0 0 0 0\n",
            " 0 0 0 0 0 0 0 0 0 0 0 0 0 0 0 0 0 0 0 0 0 0 0 0 0 0 0 0 0 0 0 0 0 0 0 0 0\n",
            " 0 0 0 0 0 0 0 0 0 0 0 0 0 0 0 0 0 0 0 0 0 0 0 0 0 0 0 0 0 0 0 0 0 0 0 0 0\n",
            " 0 0 0 0 0 0 0 0 0 0 0 0 2 0 2 1 2 1 2 1 2 0 2 1 2 1 2 1 2 1 2 0 2 1 2 1 2\n",
            " 1 2 1 2 1 2 1 2 1 2 1 2 1 2 1 2 1 2 1 2 1 2 1 2 1 2 1 2 1 2 1 2 1 2 1 2 1\n",
            " 2 1 2 1 2 1 2 1 2 1 2 1 2 1 2]\n"
          ]
        }
      ]
    },
    {
      "cell_type": "markdown",
      "source": [
        "#Finally,\n",
        "Save a copy in your Github. Remember renaming the notebook."
      ],
      "metadata": {
        "id": "Ok7RGkea_b7n"
      }
    }
  ]
}