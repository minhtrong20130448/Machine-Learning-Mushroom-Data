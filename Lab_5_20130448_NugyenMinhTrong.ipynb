{
  "nbformat": 4,
  "nbformat_minor": 0,
  "metadata": {
    "colab": {
      "provenance": [],
      "include_colab_link": true
    },
    "kernelspec": {
      "name": "python3",
      "display_name": "Python 3"
    },
    "language_info": {
      "name": "python"
    }
  },
  "cells": [
    {
      "cell_type": "markdown",
      "metadata": {
        "id": "view-in-github",
        "colab_type": "text"
      },
      "source": [
        "<a href=\"https://colab.research.google.com/github/minhtrong20130448/ML/blob/main/Lab_5_20130448_NugyenMinhTrong.ipynb\" target=\"_parent\"><img src=\"https://colab.research.google.com/assets/colab-badge.svg\" alt=\"Open In Colab\"/></a>"
      ]
    },
    {
      "cell_type": "markdown",
      "source": [
        "# This lab is to deal with **SVM** to classification tasks and compare its performance with other competitive algorithms. In general, **SVM** is one of the most popular and widely used supervised machine learning algorithms.\n",
        "\n",
        "*   **Deadline: 23:59, 17/03/2023**\n",
        "\n"
      ],
      "metadata": {
        "id": "LMzehe0sy5wr"
      }
    },
    {
      "cell_type": "markdown",
      "source": [
        "# Import libraries"
      ],
      "metadata": {
        "id": "H4nJmxp9zGX4"
      }
    },
    {
      "cell_type": "code",
      "execution_count": null,
      "metadata": {
        "id": "DoVWQ8AEyc-C"
      },
      "outputs": [],
      "source": []
    },
    {
      "cell_type": "markdown",
      "source": [
        "#Task 1. \n",
        "For breast cancer dataset (https://tinyurl.com/3vme8hr3) which could be loaded from datasets in sklearn as follows:\n",
        "\n",
        "```\n",
        "#Import scikit-learn dataset library\n",
        "from sklearn import datasets\n",
        "\n",
        "#Load dataset\n",
        "cancer = datasets.load_breast_cancer()\n",
        "```\n",
        "\n",
        "*   1.1.\tApply SVM algorithm to above dataset using linear kernel.\n",
        "*   1.2.\tCompare the obtained results with other competitive algorithms (Logistic Regression, Decision Tree, kNN) based on metrics: accuracy, precision, recall, f1 measures.\n",
        "\n"
      ],
      "metadata": {
        "id": "kNv07ARGzOUm"
      }
    },
    {
      "cell_type": "code",
      "source": [
        "#import lib\n",
        "from sklearn import datasets\n",
        "from sklearn.svm import SVC\n",
        "from sklearn.model_selection import train_test_split\n",
        "from sklearn import metrics\n",
        "from sklearn.preprocessing import StandardScaler\n",
        "\n",
        "from sklearn.linear_model import LogisticRegression\n",
        "from sklearn.neighbors import KNeighborsClassifier\n",
        "from sklearn.tree import DecisionTreeClassifier\n",
        "\n",
        "from prettytable import PrettyTable\n",
        "\n",
        "import pandas as pd\n",
        "import matplotlib.pyplot as plt"
      ],
      "metadata": {
        "id": "U2pJqdr3GDfd"
      },
      "execution_count": 6,
      "outputs": []
    },
    {
      "cell_type": "code",
      "source": [
        "cancer = datasets.load_breast_cancer()\n",
        "\n",
        "X = cancer.data\n",
        "y = cancer.target\n",
        "\n",
        "X_train, X_test, Y_train, Y_test = train_test_split(X, y, test_size=0.2, random_state=42)\n",
        "\n",
        "# Hồi quy kernel \n",
        "svc = SVC(kernel='linear')\n",
        "\n",
        "svc.fit(X_train, Y_train)\n",
        "\n",
        "y_pred = svc.predict(X_test)\n",
        "\n",
        "accuracy_kernel =  round(metrics.accuracy_score(Y_test, y_pred),4)\n",
        "precision_kernel =  round(metrics.precision_score(Y_test, y_pred),4)\n",
        "recall_kernel =  round(metrics.recall_score(Y_test, y_pred),4)\n",
        "f1_kernel =  round(metrics.f1_score(Y_test, y_pred),4)\n",
        "\n",
        "print(metrics.classification_report(Y_test, y_pred))\n",
        "\n",
        "#Hồi quy logistic\n",
        "\n",
        "lgt = LogisticRegression(random_state = 0) \n",
        "lgt.fit(X_train, Y_train)\n",
        "y_pred_lgt = lgt.predict(X_test)\n",
        "\n",
        "accuracy_lgt =  round(metrics.accuracy_score(Y_test, y_pred_lgt),4)\n",
        "precision_lgt =  round(metrics.precision_score(Y_test, y_pred_lgt),4)\n",
        "recall_lgt =  round(metrics.recall_score(Y_test, y_pred_lgt),4)\n",
        "f1_lgt =  round(metrics.f1_score(Y_test, y_pred_lgt),4)\n",
        "\n",
        "#kNN\n",
        "knn = KNeighborsClassifier(n_neighbors=5)\n",
        "knn.fit(X_train, Y_train)\n",
        "y_pred_knn = knn.predict(X_test)\n",
        "\n",
        "accuracy_knn =  round(metrics.accuracy_score(Y_test, y_pred_knn),4)\n",
        "precision_knn =  round(metrics.precision_score(Y_test, y_pred_knn),4)\n",
        "recall_knn =  round(metrics.recall_score(Y_test, y_pred_knn),4)\n",
        "f1_knn =  round(metrics.f1_score(Y_test, y_pred_knn),4)\n",
        "\n",
        "#d tree\n",
        "dt = DecisionTreeClassifier(random_state=42)\n",
        "dt.fit(X_train, Y_train)\n",
        "y_pred_dt = dt.predict(X_test)\n",
        "\n",
        "accuracy_dt = round(metrics.accuracy_score(Y_test, y_pred_dt),4)\n",
        "precision_dt =  round(metrics.precision_score(Y_test, y_pred_dt),4)\n",
        "recall_dt =  round(metrics.recall_score(Y_test, y_pred_dt),4)\n",
        "f1_dt =  round(metrics.f1_score(Y_test, y_pred_dt),4)\n",
        "\n",
        "#Vẽ bảng so sánh\n",
        "\n",
        "table = PrettyTable(['Thuật toán','Acc','Pre','Recall','F1'])\n",
        "table.add_row(['Kernel', accuracy_kernel, precision_kernel, recall_kernel, f1_kernel])\n",
        "table.add_row(['Logistic', accuracy_lgt, precision_lgt, recall_lgt, f1_lgt])\n",
        "table.add_row(['kNN', accuracy_knn, precision_knn, recall_knn, f1_knn])\n",
        "table.add_row(['Decision Tree', accuracy_dt, precision_dt, recall_dt, f1_dt])\n",
        "print(table)"
      ],
      "metadata": {
        "id": "sOsg77IBzEyo",
        "colab": {
          "base_uri": "https://localhost:8080/"
        },
        "outputId": "afbd26bf-799b-419e-af7b-95e6dec2269d"
      },
      "execution_count": null,
      "outputs": [
        {
          "output_type": "stream",
          "name": "stdout",
          "text": [
            "              precision    recall  f1-score   support\n",
            "\n",
            "           0       0.97      0.91      0.94        43\n",
            "           1       0.95      0.99      0.97        71\n",
            "\n",
            "    accuracy                           0.96       114\n",
            "   macro avg       0.96      0.95      0.95       114\n",
            "weighted avg       0.96      0.96      0.96       114\n",
            "\n",
            "+---------------+--------+--------+--------+--------+\n",
            "|   Thuật toán  |  Acc   |  Pre   | Recall |   F1   |\n",
            "+---------------+--------+--------+--------+--------+\n",
            "|     Kernel    | 0.9561 | 0.9459 | 0.9859 | 0.9655 |\n",
            "|    Logistic   | 0.9649 | 0.9589 | 0.9859 | 0.9722 |\n",
            "|      kNN      | 0.9561 | 0.9342 |  1.0   | 0.966  |\n",
            "| Decision Tree | 0.9474 | 0.9577 | 0.9577 | 0.9577 |\n",
            "+---------------+--------+--------+--------+--------+\n"
          ]
        },
        {
          "output_type": "stream",
          "name": "stderr",
          "text": [
            "/usr/local/lib/python3.9/dist-packages/sklearn/linear_model/_logistic.py:458: ConvergenceWarning: lbfgs failed to converge (status=1):\n",
            "STOP: TOTAL NO. of ITERATIONS REACHED LIMIT.\n",
            "\n",
            "Increase the number of iterations (max_iter) or scale the data as shown in:\n",
            "    https://scikit-learn.org/stable/modules/preprocessing.html\n",
            "Please also refer to the documentation for alternative solver options:\n",
            "    https://scikit-learn.org/stable/modules/linear_model.html#logistic-regression\n",
            "  n_iter_i = _check_optimize_result(\n"
          ]
        }
      ]
    },
    {
      "cell_type": "markdown",
      "source": [
        "#Task 2. \n",
        "\n",
        "*   1.1.\tPerform SVM algorithm to **Iris dataset** using **linear kernel**.\n",
        "*   1.2.\tCompare the obtained results in 1.1 with SVM using other kernels (**Polynomial Kernel, Gaussian Kernel, Sigmoid Kernel, Radial Basis Function Kernel**). Some metrics could be used: accuracy, precision, recall, f1 measures\n",
        "\n",
        "\n",
        "\n"
      ],
      "metadata": {
        "id": "S43IoUT-0OQq"
      }
    },
    {
      "cell_type": "code",
      "source": [
        "iris = datasets.load_iris()\n",
        "X = iris.data\n",
        "y = iris.target\n",
        "X_train, X_test, Y_train, Y_test = train_test_split(X, y, test_size=0.3, random_state=0)\n",
        "\n",
        "#scaler = StandardScaler()\n",
        "#X_train = scaler.fit_transform(X_train)\n",
        "#X_test = scaler.transform(X_test)'\n",
        "\n",
        "#linear\n",
        "svc_linear = SVC(kernel='linear', random_state=0)\n",
        "svc_linear.fit(X_train, Y_train)\n",
        "y_pred_linear = svc_linear.predict(X_test)\n",
        "\n",
        "accuracy_linear = round(metrics.accuracy_score(Y_test, y_pred_linear),4)\n",
        "precision_linear =  round(metrics.precision_score(Y_test, y_pred_linear, average='macro'),4)\n",
        "recall_linear =  round(metrics.recall_score(Y_test, y_pred_linear, average='macro'),4)\n",
        "f1_linear =  round(metrics.f1_score(Y_test, y_pred_linear, average='macro'),4)\n",
        "\n",
        "#poly\n",
        "svc_poly = SVC(kernel='poly', degree=3)\n",
        "svc_poly.fit(X_train, Y_train)\n",
        "y_pred_poly = svc_poly.predict(X_test)\n",
        "accuracy_poly = round(metrics.accuracy_score(Y_test, y_pred_poly),4)\n",
        "precision_poly =  round(metrics.precision_score(Y_test, y_pred_poly, average='macro'),4)\n",
        "recall_poly =  round(metrics.recall_score(Y_test, y_pred_poly, average='macro'),4)\n",
        "f1_poly =  round(metrics.f1_score(Y_test, y_pred_poly, average='macro'),4)\n",
        "\n",
        "\n",
        "#Sigmoid\n",
        "svm_sigmoid_clf = SVC(kernel='sigmoid')\n",
        "svm_sigmoid_clf.fit(X_train, Y_train)\n",
        "y_pred_sigmoid = svm_sigmoid_clf.predict(X_test)\n",
        "accuracy_sigmoid = round(metrics.accuracy_score(Y_test, y_pred_sigmoid),4)\n",
        "precision_sigmoid =  round(metrics.precision_score(Y_test, y_pred_sigmoid, average='macro'),4)\n",
        "recall_sigmoid =  round(metrics.recall_score(Y_test, y_pred_sigmoid, average='macro'),4)\n",
        "f1_sigmoid =  round(metrics.f1_score(Y_test, y_pred_sigmoid, average='macro'),4)\n",
        "\n",
        "\n",
        "# Radial\n",
        "svm_radial = SVC(kernel='rbf')\n",
        "svm_radial.fit(X_train, Y_train)\n",
        "y_pred_radial = svm_radial.predict(X_test)\n",
        "accuracy_radial = round(metrics.accuracy_score(Y_test, y_pred_radial),4)\n",
        "precision_radial =  round(metrics.precision_score(Y_test, y_pred_radial, average='macro'),4)\n",
        "recall_radial =  round(metrics.recall_score(Y_test, y_pred_radial, average='macro'),4)\n",
        "f1_radial =  round(metrics.f1_score(Y_test, y_pred_radial, average='macro'),4)\n",
        "\n",
        "#Gaussian\n",
        "svm_gauss = SVC(kernel='rbf', gamma=0.5)\n",
        "svm_gauss.fit(X_train, Y_train)\n",
        "y_pred_gauss = svm_gauss.predict(X_test)\n",
        "accuracy_gauss = round(metrics.accuracy_score(Y_test, y_pred_gauss),4)\n",
        "precision_gauss =  round(metrics.precision_score(Y_test, y_pred_gauss, average='macro'),4)\n",
        "recall_gauss =  round(metrics.recall_score(Y_test, y_pred_gauss, average='macro'),4)\n",
        "f1_gauss =  round(metrics.f1_score(Y_test, y_pred_gauss, average='macro'),4)\n",
        "\n",
        "\n",
        "#Vẽ bảng so sánh\n",
        "table = PrettyTable(['Kernel','Acc','Pre','Recall','F1'])\n",
        "table.add_row(['Linear', accuracy_linear, precision_linear, recall_linear, f1_linear])\n",
        "table.add_row(['Poly', accuracy_poly, precision_poly, recall_poly, f1_poly])\n",
        "table.add_row(['Sigmoid', accuracy_sigmoid, precision_sigmoid, recall_sigmoid, f1_sigmoid])\n",
        "table.add_row(['Rbf', accuracy_radial, precision_radial, recall_radial, f1_radial])\n",
        "table.add_row(['Gauss', accuracy_gauss, precision_gauss, recall_gauss, f1_gauss])\n",
        "\n",
        "print(table)\n",
        "\n",
        "#Vẽ biểu đồ so sánh\n",
        "\n",
        "algorithm = ['Linear','Poly','Sigmoid', 'Radial', 'Gauss']\n",
        "values_accs = [accuracy_linear, accuracy_poly, accuracy_sigmoid, accuracy_radial, accuracy_gauss]\n",
        "values_pres = [precision_linear, precision_poly, precision_sigmoid, precision_radial, precision_gauss]\n",
        "values_recalls = [recall_linear, recall_poly, recall_sigmoid, recall_radial, recall_gauss]\n",
        "values_f1s = [f1_linear, f1_poly, f1_sigmoid, f1_radial, f1_gauss]\n",
        "\n",
        "plt.plot(algorithm, values_accs, label=\"Accuracy\")\n",
        "plt.plot(algorithm, values_pres, label=\"Precisions\")\n",
        "plt.plot(algorithm, values_recalls, label=\"Recall\")\n",
        "plt.plot(algorithm, values_f1s, label=\"F1 Scores\")\n",
        "plt.xlabel(\"algorithm\")\n",
        "plt.legend()"
      ],
      "metadata": {
        "id": "_xhPpF5b033h",
        "colab": {
          "base_uri": "https://localhost:8080/",
          "height": 518
        },
        "outputId": "9ce6a8eb-7385-4686-b80d-6e8c47fed8a1"
      },
      "execution_count": 14,
      "outputs": [
        {
          "output_type": "stream",
          "name": "stdout",
          "text": [
            "+---------+--------+--------+--------+-------+\n",
            "|  Kernel |  Acc   |  Pre   | Recall |   F1  |\n",
            "+---------+--------+--------+--------+-------+\n",
            "|  Linear | 0.9778 | 0.9722 | 0.9815 | 0.976 |\n",
            "|   Poly  | 0.9778 | 0.9722 | 0.9815 | 0.976 |\n",
            "| Sigmoid | 0.2444 | 0.0815 | 0.3333 | 0.131 |\n",
            "|   Rbf   | 0.9778 | 0.9722 | 0.9815 | 0.976 |\n",
            "|  Gauss  | 0.9778 | 0.9722 | 0.9815 | 0.976 |\n",
            "+---------+--------+--------+--------+-------+\n"
          ]
        },
        {
          "output_type": "stream",
          "name": "stderr",
          "text": [
            "/usr/local/lib/python3.9/dist-packages/sklearn/metrics/_classification.py:1344: UndefinedMetricWarning: Precision is ill-defined and being set to 0.0 in labels with no predicted samples. Use `zero_division` parameter to control this behavior.\n",
            "  _warn_prf(average, modifier, msg_start, len(result))\n"
          ]
        },
        {
          "output_type": "execute_result",
          "data": {
            "text/plain": [
              "<matplotlib.legend.Legend at 0x7f7ed59b42e0>"
            ]
          },
          "metadata": {},
          "execution_count": 14
        },
        {
          "output_type": "display_data",
          "data": {
            "text/plain": [
              "<Figure size 432x288 with 1 Axes>"
            ],
            "image/png": "[encoded data removed]"
          },
          "metadata": {
            "needs_background": "light"
          }
        }
      ]
    },
    {
      "cell_type": "markdown",
      "source": [
        "#Task 3. \n",
        "Compare the performance of selected classification algorithms (Decision Tree, kNN, Logistic Regression) and SVM (using different kernels) with mnist dataset based on accuracy, precision, recall, f1 measures.\n"
      ],
      "metadata": {
        "id": "b52OPWPD2afi"
      }
    },
    {
      "cell_type": "code",
      "source": [
        "mnist = datasets.load_digits()\n",
        "X = mnist.data\n",
        "y = mnist.target\n",
        "X_train, X_test, Y_train, Y_test = train_test_split(X, y, test_size=0.3, random_state=0)\n",
        "\n",
        "\n",
        "#Hồi quy logistic\n",
        "\n",
        "lgt = LogisticRegression(random_state = 0) \n",
        "lgt.fit(X_train, Y_train)\n",
        "y_pred_lgt = lgt.predict(X_test)\n",
        "\n",
        "accuracy_lgt =  round(metrics.accuracy_score(Y_test, y_pred_lgt),4)\n",
        "precision_lgt =  round(metrics.precision_score(Y_test, y_pred_lgt, average='macro'),4)\n",
        "recall_lgt =  round(metrics.recall_score(Y_test, y_pred_lgt,average='macro'),4)\n",
        "f1_lgt =  round(metrics.f1_score(Y_test, y_pred_lgt,average='macro'),4)\n",
        "\n",
        "#kNN\n",
        "knn = KNeighborsClassifier(n_neighbors=5)\n",
        "knn.fit(X_train, Y_train)\n",
        "y_pred_knn = knn.predict(X_test)\n",
        "\n",
        "accuracy_knn =  round(metrics.accuracy_score(Y_test, y_pred_knn),4)\n",
        "precision_knn =  round(metrics.precision_score(Y_test, y_pred_knn, average='macro'),4)\n",
        "recall_knn =  round(metrics.recall_score(Y_test, y_pred_knn, average='macro'),4)\n",
        "f1_knn =  round(metrics.f1_score(Y_test, y_pred_knn, average='macro'),4)\n",
        "\n",
        "#Decision tree\n",
        "dt = DecisionTreeClassifier(random_state=42)\n",
        "dt.fit(X_train, Y_train)\n",
        "y_pred_dt = dt.predict(X_test)\n",
        "\n",
        "accuracy_dt = round(metrics.accuracy_score(Y_test, y_pred_dt),4)\n",
        "precision_dt =  round(metrics.precision_score(Y_test, y_pred_dt,average='macro'),4)\n",
        "recall_dt =  round(metrics.recall_score(Y_test, y_pred_dt,average='macro'),4)\n",
        "f1_dt =  round(metrics.f1_score(Y_test, y_pred_dt,average='macro'),4)\n",
        "\n",
        "\n",
        "#Linear\n",
        "svc_linear = SVC(kernel='linear', random_state=0)\n",
        "svc_linear.fit(X_train, Y_train)\n",
        "y_pred_linear = svc_linear.predict(X_test)\n",
        "\n",
        "accuracy_linear = round(metrics.accuracy_score(Y_test, y_pred_linear),4)\n",
        "precision_linear =  round(metrics.precision_score(Y_test, y_pred_linear, average='macro'),4)\n",
        "recall_linear =  round(metrics.recall_score(Y_test, y_pred_linear, average='macro'),4)\n",
        "f1_linear =  round(metrics.f1_score(Y_test, y_pred_linear, average='macro'),4)\n",
        "\n",
        "#Poly\n",
        "svc_poly = SVC(kernel='poly', degree=3)\n",
        "svc_poly.fit(X_train, Y_train)\n",
        "y_pred_poly = svc_poly.predict(X_test)\n",
        "accuracy_poly = round(metrics.accuracy_score(Y_test, y_pred_poly),4)\n",
        "precision_poly =  round(metrics.precision_score(Y_test, y_pred_poly, average='macro'),4)\n",
        "recall_poly =  round(metrics.recall_score(Y_test, y_pred_poly, average='macro'),4)\n",
        "f1_poly =  round(metrics.f1_score(Y_test, y_pred_poly, average='macro'),4)\n",
        "\n",
        "\n",
        "#Sigmoid\n",
        "svm_sigmoid_clf = SVC(kernel='sigmoid')\n",
        "svm_sigmoid_clf.fit(X_train, Y_train)\n",
        "y_pred_sigmoid = svm_sigmoid_clf.predict(X_test)\n",
        "accuracy_sigmoid = round(metrics.accuracy_score(Y_test, y_pred_sigmoid),4)\n",
        "precision_sigmoid =  round(metrics.precision_score(Y_test, y_pred_sigmoid, average='macro'),4)\n",
        "recall_sigmoid =  round(metrics.recall_score(Y_test, y_pred_sigmoid, average='macro'),4)\n",
        "f1_sigmoid =  round(metrics.f1_score(Y_test, y_pred_sigmoid, average='macro'),4)\n",
        "\n",
        "\n",
        "# Radial\n",
        "svm_radial = SVC(kernel='rbf')\n",
        "svm_radial.fit(X_train, Y_train)\n",
        "y_pred_radial = svm_radial.predict(X_test)\n",
        "accuracy_radial = round(metrics.accuracy_score(Y_test, y_pred_radial),4)\n",
        "precision_radial =  round(metrics.precision_score(Y_test, y_pred_radial, average='macro'),4)\n",
        "recall_radial =  round(metrics.recall_score(Y_test, y_pred_radial, average='macro'),4)\n",
        "f1_radial =  round(metrics.f1_score(Y_test, y_pred_radial, average='macro'),4)\n",
        "\n",
        "#Gaussian\n",
        "svm_gauss = SVC(kernel='rbf', gamma=0.5)\n",
        "svm_gauss.fit(X_train, Y_train)\n",
        "y_pred_gauss = svm_gauss.predict(X_test)\n",
        "accuracy_gauss = round(metrics.accuracy_score(Y_test, y_pred_gauss),4)\n",
        "precision_gauss =  round(metrics.precision_score(Y_test, y_pred_gauss, average='macro'),4)\n",
        "recall_gauss =  round(metrics.recall_score(Y_test, y_pred_gauss, average='macro'),4)\n",
        "f1_gauss =  round(metrics.f1_score(Y_test, y_pred_gauss, average='macro'),4)\n",
        "\n",
        "#Vẽ bảng so sánh\n",
        "table = PrettyTable(['Kernel','Acc','Pre','Recall','F1'])\n",
        "\n",
        "table.add_row(['Logictic', accuracy_lgt, precision_lgt, recall_lgt, f1_lgt])\n",
        "table.add_row(['kNN', accuracy_knn, precision_knn, recall_knn, f1_knn])\n",
        "table.add_row(['Decision Tree', accuracy_dt, precision_dt, recall_dt, f1_dt])\n",
        "table.add_row(['Kernel Linear', accuracy_linear, precision_linear, recall_linear, f1_linear])\n",
        "table.add_row(['Kernel Poly', accuracy_poly, precision_poly, recall_poly, f1_poly])\n",
        "table.add_row(['Kernel Sigmoid', accuracy_sigmoid, precision_sigmoid, recall_sigmoid, f1_sigmoid])\n",
        "table.add_row(['Kernel Radial', accuracy_radial, precision_radial, recall_radial, f1_radial])\n",
        "table.add_row(['Kernel Gauss', accuracy_gauss, precision_gauss, recall_gauss, f1_gauss])\n",
        "\n",
        "print(table)\n",
        "\n",
        "#Vẽ biểu đồ so sánh\n",
        "\n",
        "algorithm = ['Logictic', 'kNN','DTree','Linear','Poly','Sigmoid', 'Radial', 'Gauss']\n",
        "values_accs = [accuracy_lgt, accuracy_knn, accuracy_dt, accuracy_linear, accuracy_poly, accuracy_sigmoid, accuracy_radial, accuracy_gauss]\n",
        "values_pres = [precision_lgt, precision_knn, precision_dt, precision_linear, precision_poly, precision_sigmoid, precision_radial, precision_gauss]\n",
        "values_recalls = [recall_lgt, recall_knn, recall_dt, recall_linear, recall_poly, recall_sigmoid, recall_radial, recall_gauss]\n",
        "values_f1s = [f1_lgt, f1_knn, f1_dt, f1_linear, f1_poly, f1_sigmoid, f1_radial, f1_gauss]\n",
        "\n",
        "plt.plot(algorithm, values_accs, label=\"Accuracy\")\n",
        "plt.plot(algorithm, values_pres, label=\"Precisions\")\n",
        "plt.plot(algorithm, values_recalls, label=\"Recall\")\n",
        "plt.plot(algorithm, values_f1s, label=\"F1 Scores\")\n",
        "plt.xlabel(\"algorithm\")\n",
        "plt.legend()"
      ],
      "metadata": {
        "colab": {
          "base_uri": "https://localhost:8080/",
          "height": 718
        },
        "id": "eNk-x3-Mgv_A",
        "outputId": "fba2fced-6bc9-4c5f-b2a8-de08c917ad93"
      },
      "execution_count": 10,
      "outputs": [
        {
          "output_type": "stream",
          "name": "stderr",
          "text": [
            "/usr/local/lib/python3.9/dist-packages/sklearn/linear_model/_logistic.py:458: ConvergenceWarning: lbfgs failed to converge (status=1):\n",
            "STOP: TOTAL NO. of ITERATIONS REACHED LIMIT.\n",
            "\n",
            "Increase the number of iterations (max_iter) or scale the data as shown in:\n",
            "    https://scikit-learn.org/stable/modules/preprocessing.html\n",
            "Please also refer to the documentation for alternative solver options:\n",
            "    https://scikit-learn.org/stable/modules/linear_model.html#logistic-regression\n",
            "  n_iter_i = _check_optimize_result(\n"
          ]
        },
        {
          "output_type": "stream",
          "name": "stdout",
          "text": [
            "+----------------+--------+--------+--------+--------+\n",
            "|     Kernel     |  Acc   |  Pre   | Recall |   F1   |\n",
            "+----------------+--------+--------+--------+--------+\n",
            "|    Logictic    | 0.9537 | 0.9561 | 0.9553 | 0.9552 |\n",
            "|      kNN       | 0.9815 | 0.982  | 0.9821 | 0.9819 |\n",
            "| Decision Tree  | 0.837  | 0.842  | 0.8401 | 0.8396 |\n",
            "| Kernel Linear  | 0.9741 | 0.9745 | 0.9757 | 0.9748 |\n",
            "|  Kernel Poly   | 0.9889 | 0.9892 | 0.9896 | 0.9893 |\n",
            "| Kernel Sigmoid | 0.9019 | 0.9071 | 0.9032 | 0.9036 |\n",
            "| Kernel Radial  | 0.9907 | 0.9913 | 0.9912 | 0.9912 |\n",
            "|  Kernel Gauss  | 0.0889 | 0.0089 |  0.1   | 0.0163 |\n",
            "+----------------+--------+--------+--------+--------+\n"
          ]
        },
        {
          "output_type": "stream",
          "name": "stderr",
          "text": [
            "/usr/local/lib/python3.9/dist-packages/sklearn/metrics/_classification.py:1344: UndefinedMetricWarning: Precision is ill-defined and being set to 0.0 in labels with no predicted samples. Use `zero_division` parameter to control this behavior.\n",
            "  _warn_prf(average, modifier, msg_start, len(result))\n"
          ]
        },
        {
          "output_type": "execute_result",
          "data": {
            "text/plain": [
              "<matplotlib.legend.Legend at 0x7f7edb09c130>"
            ]
          },
          "metadata": {},
          "execution_count": 10
        },
        {
          "output_type": "display_data",
          "data": {
            "text/plain": [
              "<Figure size 432x288 with 1 Axes>"
            ],
            "image/png": "[encoded data removed]"
          },
          "metadata": {
            "needs_background": "light"
          }
        }
      ]
    },
    {
      "cell_type": "markdown",
      "source": [
        "#Task 4. \n",
        "Compare the performance of selected classification algorithms (Decision Tree, kNN, Logistic Regression) and SVM (using different kernels) with **credit card dataset** based on accuracy, precision, recall, f1 measures.\n",
        "\n",
        "*   Give some comments on the obtained results\n",
        "*   Identify issues with dataset, and propose the solutions to these issues\n",
        "\n"
      ],
      "metadata": {
        "id": "Z5pp7_h-aP2u"
      }
    },
    {
      "cell_type": "code",
      "source": [
        "from google.colab import drive\n",
        "drive.mount('/content/gdrive')\n",
        "%cd '/content/gdrive/MyDrive/Lab5'"
      ],
      "metadata": {
        "id": "Rw_-8FIf2KxW",
        "colab": {
          "base_uri": "https://localhost:8080/"
        },
        "outputId": "e1d83937-5b26-4195-f87d-99806c2f2fbb"
      },
      "execution_count": 2,
      "outputs": [
        {
          "output_type": "stream",
          "name": "stdout",
          "text": [
            "Mounted at /content/gdrive\n",
            "/content/gdrive/MyDrive/Lab5\n"
          ]
        }
      ]
    },
    {
      "cell_type": "code",
      "source": [
        "dataset = pd.read_csv('creditcard.csv')\n",
        "X = dataset.iloc[:, 1:-1]\n",
        "y = dataset.iloc[:, -1]\n",
        "X_train, X_test, Y_train, Y_test = train_test_split(X, y, train_size=0.05, test_size=0.05, shuffle=True)\n",
        "\n",
        "#Hồi quy logistic\n",
        "lgt = LogisticRegression(random_state = 0) \n",
        "lgt.fit(X_train, Y_train)\n",
        "y_pred_lgt = lgt.predict(X_test)\n",
        "\n",
        "accuracy_lgt = round(metrics.accuracy_score(Y_test, y_pred_lgt),4)\n",
        "precision_lgt = round(metrics.precision_score(Y_test, y_pred_lgt, average='macro'),4)\n",
        "recall_lgt = round(metrics.recall_score(Y_test, y_pred_lgt,average='macro'),4)\n",
        "f1_lgt = round(metrics.f1_score(Y_test, y_pred_lgt,average='macro'),4)\n",
        "\n",
        "#kNN\n",
        "knn = KNeighborsClassifier(n_neighbors=5)\n",
        "knn.fit(X_train, Y_train)\n",
        "y_pred_knn = knn.predict(X_test)\n",
        "\n",
        "accuracy_knn =  round(metrics.accuracy_score(Y_test, y_pred_knn),4)\n",
        "precision_knn =  round(metrics.precision_score(Y_test, y_pred_knn, average='macro'),4)\n",
        "recall_knn =  round(metrics.recall_score(Y_test, y_pred_knn, average='macro'),4)\n",
        "f1_knn =  round(metrics.f1_score(Y_test, y_pred_knn, average='macro'),4)\n",
        "\n",
        "#Decision tree\n",
        "dt = DecisionTreeClassifier(random_state=42)\n",
        "dt.fit(X_train, Y_train)\n",
        "y_pred_dt = dt.predict(X_test)\n",
        "\n",
        "accuracy_dt = round(metrics.accuracy_score(Y_test, y_pred_dt),4)\n",
        "precision_dt =  round(metrics.precision_score(Y_test, y_pred_dt,average='macro'),4)\n",
        "recall_dt =  round(metrics.recall_score(Y_test, y_pred_dt,average='macro'),4)\n",
        "f1_dt =  round(metrics.f1_score(Y_test, y_pred_dt,average='macro'),4)\n",
        "\n",
        "\n",
        "#Linear\n",
        "svc_linear = SVC(kernel='linear', random_state=0)\n",
        "svc_linear.fit(X_train, Y_train)\n",
        "y_pred_linear = svc_linear.predict(X_test)\n",
        "\n",
        "accuracy_linear = round(metrics.accuracy_score(Y_test, y_pred_linear),4)\n",
        "precision_linear =  round(metrics.precision_score(Y_test, y_pred_linear, average='macro'),4)\n",
        "recall_linear =  round(metrics.recall_score(Y_test, y_pred_linear, average='macro'),4)\n",
        "f1_linear =  round(metrics.f1_score(Y_test, y_pred_linear, average='macro'),4)\n",
        "\n",
        "#Poly\n",
        "svc_poly = SVC(kernel='poly', degree=3)\n",
        "svc_poly.fit(X_train, Y_train)\n",
        "y_pred_poly = svc_poly.predict(X_test)\n",
        "accuracy_poly = round(metrics.accuracy_score(Y_test, y_pred_poly),4)\n",
        "precision_poly =  round(metrics.precision_score(Y_test, y_pred_poly, average='macro'),4)\n",
        "recall_poly =  round(metrics.recall_score(Y_test, y_pred_poly, average='macro'),4)\n",
        "f1_poly =  round(metrics.f1_score(Y_test, y_pred_poly, average='macro'),4)\n",
        "\n",
        "\n",
        "#Sigmoid\n",
        "svm_sigmoid_clf = SVC(kernel='sigmoid')\n",
        "svm_sigmoid_clf.fit(X_train, Y_train)\n",
        "y_pred_sigmoid = svm_sigmoid_clf.predict(X_test)\n",
        "accuracy_sigmoid = round(metrics.accuracy_score(Y_test, y_pred_sigmoid),4)\n",
        "precision_sigmoid =  round(metrics.precision_score(Y_test, y_pred_sigmoid, average='macro'),4)\n",
        "recall_sigmoid =  round(metrics.recall_score(Y_test, y_pred_sigmoid, average='macro'),4)\n",
        "f1_sigmoid =  round(metrics.f1_score(Y_test, y_pred_sigmoid, average='macro'),4)\n",
        "\n",
        "\n",
        "# Radial\n",
        "svm_radial = SVC(kernel='rbf')\n",
        "svm_radial.fit(X_train, Y_train)\n",
        "y_pred_radial = svm_radial.predict(X_test)\n",
        "accuracy_radial = round(metrics.accuracy_score(Y_test, y_pred_radial),4)\n",
        "precision_radial =  round(metrics.precision_score(Y_test, y_pred_radial, average='macro'),4)\n",
        "recall_radial =  round(metrics.recall_score(Y_test, y_pred_radial, average='macro'),4)\n",
        "f1_radial =  round(metrics.f1_score(Y_test, y_pred_radial, average='macro'),4)\n",
        "\n",
        "#Gaussian\n",
        "svm_gauss = SVC(kernel='rbf', gamma=0.5)\n",
        "svm_gauss.fit(X_train, Y_train)\n",
        "y_pred_gauss = svm_gauss.predict(X_test)\n",
        "accuracy_gauss = round(metrics.accuracy_score(Y_test, y_pred_gauss),4)\n",
        "precision_gauss =  round(metrics.precision_score(Y_test, y_pred_gauss, average='macro'),4)\n",
        "recall_gauss =  round(metrics.recall_score(Y_test, y_pred_gauss, average='macro'),4)\n",
        "f1_gauss =  round(metrics.f1_score(Y_test, y_pred_gauss, average='macro'),4)\n",
        "\n",
        "#Vẽ bảng so sánh\n",
        "table = PrettyTable(['Kernel','Acc','Pre','Recall','F1'])\n",
        "\n",
        "table.add_row(['Logictic', accuracy_lgt, precision_lgt, recall_lgt, f1_lgt])\n",
        "table.add_row(['kNN', accuracy_knn, precision_knn, recall_knn, f1_knn])\n",
        "table.add_row(['Decision Tree', accuracy_dt, precision_dt, recall_dt, f1_dt])\n",
        "table.add_row(['Kernel Linear', accuracy_linear, precision_linear, recall_linear, f1_linear])\n",
        "table.add_row(['Kernel Poly', accuracy_poly, precision_poly, recall_poly, f1_poly])\n",
        "table.add_row(['Kernel Sigmoid', accuracy_sigmoid, precision_sigmoid, recall_sigmoid, f1_sigmoid])\n",
        "table.add_row(['Kernel Radial', accuracy_radial, precision_radial, recall_radial, f1_radial])\n",
        "table.add_row(['Kernel Gauss', accuracy_gauss, precision_gauss, recall_gauss, f1_gauss])\n",
        "\n",
        "print(table)\n",
        "\n",
        "algorithm = ['Logictic', 'kNN','DTree','Linear','Poly','Sigmoid', 'Radial', 'Gauss']\n",
        "values_accs = [accuracy_lgt, accuracy_knn, accuracy_dt, accuracy_linear, accuracy_poly, accuracy_sigmoid, accuracy_radial, accuracy_gauss]\n",
        "values_pres = [precision_lgt, precision_knn, precision_dt, precision_linear, precision_poly, precision_sigmoid, precision_radial, precision_gauss]\n",
        "values_recalls = [recall_lgt, recall_knn, recall_dt, recall_linear, recall_poly, recall_sigmoid, recall_radial, recall_gauss]\n",
        "values_f1s = [f1_lgt, f1_knn, f1_dt, f1_linear, f1_poly, f1_sigmoid, f1_radial, f1_gauss]\n",
        "\n",
        "plt.plot(algorithm, values_accs, label=\"Accuracy\")\n",
        "plt.plot(algorithm, values_pres, label=\"Precisions\")\n",
        "plt.plot(algorithm, values_recalls, label=\"Recall\")\n",
        "plt.plot(algorithm, values_f1s, label=\"F1 Scores\")\n",
        "plt.xlabel(\"algorithm\")\n",
        "plt.legend()\n",
        "\n",
        "#Các vấn đề và giải pháp đối với tập dữ liệu\n",
        "#Imbalanced data: Tập dữ liệu của bạn có thể không cân bằng giữa hai lớp (0 và 1) trong biến đầu ra. Điều này có thể dẫn đến hiện tượng mô hình tìm được có độ chính xác cao nhưng độ phân loại của lớp thiểu số (chỉ có rất ít mẫu) lại rất thấp.\n",
        "#Giải pháp: Các kỹ thuật tái cân bằng dữ liệu bao gồm oversampling (tăng số lượng mẫu trong lớp thiểu số) và undersampling (giảm số lượng mẫu trong lớp đa số).\n",
        "#Missing data: Tập dữ liệu có thể thiếu các giá trị cho một hoặc nhiều biến. Điều này có thể ảnh hưởng đến khả năng phân loại của mô hình.\n",
        "#Giải pháp thay thế dữ liệu bị thiếu bằng giá trị trung bình hoặc giá trị phổ biến nhất\n",
        "\n"
      ],
      "metadata": {
        "colab": {
          "base_uri": "https://localhost:8080/",
          "height": 755
        },
        "id": "KvfiBs08kt07",
        "outputId": "2469c3e7-8007-44f1-d106-69d20b7e56f4"
      },
      "execution_count": 13,
      "outputs": [
        {
          "output_type": "stream",
          "name": "stderr",
          "text": [
            "/usr/local/lib/python3.9/dist-packages/sklearn/linear_model/_logistic.py:458: ConvergenceWarning: lbfgs failed to converge (status=1):\n",
            "STOP: TOTAL NO. of ITERATIONS REACHED LIMIT.\n",
            "\n",
            "Increase the number of iterations (max_iter) or scale the data as shown in:\n",
            "    https://scikit-learn.org/stable/modules/preprocessing.html\n",
            "Please also refer to the documentation for alternative solver options:\n",
            "    https://scikit-learn.org/stable/modules/linear_model.html#logistic-regression\n",
            "  n_iter_i = _check_optimize_result(\n",
            "/usr/local/lib/python3.9/dist-packages/sklearn/metrics/_classification.py:1344: UndefinedMetricWarning: Precision is ill-defined and being set to 0.0 in labels with no predicted samples. Use `zero_division` parameter to control this behavior.\n",
            "  _warn_prf(average, modifier, msg_start, len(result))\n"
          ]
        },
        {
          "output_type": "stream",
          "name": "stdout",
          "text": [
            "+----------------+--------+--------+--------+--------+\n",
            "|     Kernel     |  Acc   |  Pre   | Recall |   F1   |\n",
            "+----------------+--------+--------+--------+--------+\n",
            "|    Logictic    | 0.9984 | 0.8523 | 0.6998 | 0.7549 |\n",
            "|      kNN       | 0.9985 | 0.8994 | 0.6999 | 0.7663 |\n",
            "| Decision Tree  | 0.9983 | 0.8031 | 0.7829 | 0.7927 |\n",
            "| Kernel Linear  | 0.9986 | 0.8631 | 0.7665 | 0.8073 |\n",
            "|  Kernel Poly   | 0.998  | 0.999  | 0.5167 | 0.5317 |\n",
            "| Kernel Sigmoid | 0.9978 | 0.4989 | 0.4999 | 0.4994 |\n",
            "| Kernel Radial  | 0.9979 | 0.4989 |  0.5   | 0.4995 |\n",
            "|  Kernel Gauss  | 0.9979 | 0.4989 |  0.5   | 0.4995 |\n",
            "+----------------+--------+--------+--------+--------+\n"
          ]
        },
        {
          "output_type": "stream",
          "name": "stderr",
          "text": [
            "/usr/local/lib/python3.9/dist-packages/sklearn/metrics/_classification.py:1344: UndefinedMetricWarning: Precision is ill-defined and being set to 0.0 in labels with no predicted samples. Use `zero_division` parameter to control this behavior.\n",
            "  _warn_prf(average, modifier, msg_start, len(result))\n"
          ]
        },
        {
          "output_type": "execute_result",
          "data": {
            "text/plain": [
              "<matplotlib.legend.Legend at 0x7f7ed82ea340>"
            ]
          },
          "metadata": {},
          "execution_count": 13
        },
        {
          "output_type": "display_data",
          "data": {
            "text/plain": [
              "<Figure size 432x288 with 1 Axes>"
            ],
            "image/png": "[encoded data removed]"
          },
          "metadata": {
            "needs_background": "light"
          }
        }
      ]
    },
    {
      "cell_type": "markdown",
      "source": [
        "#Finally,\n",
        "Save a copy in your Github. Remember renaming the notebook."
      ],
      "metadata": {
        "id": "Ok7RGkea_b7n"
      }
    }
  ]
}